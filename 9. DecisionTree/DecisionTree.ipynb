{
 "cells": [
  {
   "cell_type": "code",
   "execution_count": 27,
   "metadata": {},
   "outputs": [],
   "source": [
    "import numpy as np\n",
    "import pandas as pd\n",
    "import matplotlib.pyplot as plt\n",
    "import seaborn as sns\n",
    "import warnings\n",
    "warnings.filterwarnings('ignore')\n",
    "%matplotlib inline"
   ]
  },
  {
   "cell_type": "code",
   "execution_count": 28,
   "metadata": {},
   "outputs": [
    {
     "data": {
      "text/html": [
       "<div>\n",
       "<style scoped>\n",
       "    .dataframe tbody tr th:only-of-type {\n",
       "        vertical-align: middle;\n",
       "    }\n",
       "\n",
       "    .dataframe tbody tr th {\n",
       "        vertical-align: top;\n",
       "    }\n",
       "\n",
       "    .dataframe thead th {\n",
       "        text-align: right;\n",
       "    }\n",
       "</style>\n",
       "<table border=\"1\" class=\"dataframe\">\n",
       "  <thead>\n",
       "    <tr style=\"text-align: right;\">\n",
       "      <th></th>\n",
       "      <th>company</th>\n",
       "      <th>job</th>\n",
       "      <th>degree</th>\n",
       "      <th>salary_more_than_100k</th>\n",
       "    </tr>\n",
       "  </thead>\n",
       "  <tbody>\n",
       "    <tr>\n",
       "      <th>0</th>\n",
       "      <td>google</td>\n",
       "      <td>sales executive</td>\n",
       "      <td>bachelors</td>\n",
       "      <td>0</td>\n",
       "    </tr>\n",
       "    <tr>\n",
       "      <th>1</th>\n",
       "      <td>google</td>\n",
       "      <td>sales executive</td>\n",
       "      <td>masters</td>\n",
       "      <td>0</td>\n",
       "    </tr>\n",
       "    <tr>\n",
       "      <th>2</th>\n",
       "      <td>google</td>\n",
       "      <td>business manager</td>\n",
       "      <td>bachelors</td>\n",
       "      <td>1</td>\n",
       "    </tr>\n",
       "    <tr>\n",
       "      <th>3</th>\n",
       "      <td>google</td>\n",
       "      <td>business manager</td>\n",
       "      <td>masters</td>\n",
       "      <td>1</td>\n",
       "    </tr>\n",
       "    <tr>\n",
       "      <th>4</th>\n",
       "      <td>google</td>\n",
       "      <td>computer programmer</td>\n",
       "      <td>bachelors</td>\n",
       "      <td>0</td>\n",
       "    </tr>\n",
       "  </tbody>\n",
       "</table>\n",
       "</div>"
      ],
      "text/plain": [
       "  company                  job     degree  salary_more_than_100k\n",
       "0  google      sales executive  bachelors                      0\n",
       "1  google      sales executive    masters                      0\n",
       "2  google     business manager  bachelors                      1\n",
       "3  google     business manager    masters                      1\n",
       "4  google  computer programmer  bachelors                      0"
      ]
     },
     "execution_count": 28,
     "metadata": {},
     "output_type": "execute_result"
    }
   ],
   "source": [
    "df = pd.read_csv('salaries.csv')\n",
    "df.head()"
   ]
  },
  {
   "cell_type": "code",
   "execution_count": 29,
   "metadata": {},
   "outputs": [],
   "source": [
    "X = df.drop(['salary_more_than_100k'], axis='columns')\n",
    "y = df['salary_more_than_100k']"
   ]
  },
  {
   "cell_type": "code",
   "execution_count": 30,
   "metadata": {},
   "outputs": [],
   "source": [
    "from sklearn.preprocessing import LabelEncoder\n",
    "le_company = LabelEncoder()\n",
    "le_job = LabelEncoder()\n",
    "le_degree = LabelEncoder()\n",
    "\n",
    "X['company_n'] = le_company.fit_transform(X['company'])\n",
    "X['job_n'] = le_job.fit_transform(X['job'])\n",
    "X['degree_n'] = le_degree.fit_transform(X['degree'])"
   ]
  },
  {
   "cell_type": "code",
   "execution_count": 31,
   "metadata": {},
   "outputs": [
    {
     "data": {
      "text/html": [
       "<div>\n",
       "<style scoped>\n",
       "    .dataframe tbody tr th:only-of-type {\n",
       "        vertical-align: middle;\n",
       "    }\n",
       "\n",
       "    .dataframe tbody tr th {\n",
       "        vertical-align: top;\n",
       "    }\n",
       "\n",
       "    .dataframe thead th {\n",
       "        text-align: right;\n",
       "    }\n",
       "</style>\n",
       "<table border=\"1\" class=\"dataframe\">\n",
       "  <thead>\n",
       "    <tr style=\"text-align: right;\">\n",
       "      <th></th>\n",
       "      <th>company_n</th>\n",
       "      <th>job_n</th>\n",
       "      <th>degree_n</th>\n",
       "    </tr>\n",
       "  </thead>\n",
       "  <tbody>\n",
       "    <tr>\n",
       "      <th>0</th>\n",
       "      <td>2</td>\n",
       "      <td>2</td>\n",
       "      <td>0</td>\n",
       "    </tr>\n",
       "    <tr>\n",
       "      <th>1</th>\n",
       "      <td>2</td>\n",
       "      <td>2</td>\n",
       "      <td>1</td>\n",
       "    </tr>\n",
       "    <tr>\n",
       "      <th>2</th>\n",
       "      <td>2</td>\n",
       "      <td>0</td>\n",
       "      <td>0</td>\n",
       "    </tr>\n",
       "    <tr>\n",
       "      <th>3</th>\n",
       "      <td>2</td>\n",
       "      <td>0</td>\n",
       "      <td>1</td>\n",
       "    </tr>\n",
       "    <tr>\n",
       "      <th>4</th>\n",
       "      <td>2</td>\n",
       "      <td>1</td>\n",
       "      <td>0</td>\n",
       "    </tr>\n",
       "    <tr>\n",
       "      <th>5</th>\n",
       "      <td>2</td>\n",
       "      <td>1</td>\n",
       "      <td>1</td>\n",
       "    </tr>\n",
       "    <tr>\n",
       "      <th>6</th>\n",
       "      <td>0</td>\n",
       "      <td>2</td>\n",
       "      <td>1</td>\n",
       "    </tr>\n",
       "    <tr>\n",
       "      <th>7</th>\n",
       "      <td>0</td>\n",
       "      <td>1</td>\n",
       "      <td>0</td>\n",
       "    </tr>\n",
       "    <tr>\n",
       "      <th>8</th>\n",
       "      <td>0</td>\n",
       "      <td>0</td>\n",
       "      <td>0</td>\n",
       "    </tr>\n",
       "    <tr>\n",
       "      <th>9</th>\n",
       "      <td>0</td>\n",
       "      <td>0</td>\n",
       "      <td>1</td>\n",
       "    </tr>\n",
       "    <tr>\n",
       "      <th>10</th>\n",
       "      <td>1</td>\n",
       "      <td>2</td>\n",
       "      <td>0</td>\n",
       "    </tr>\n",
       "    <tr>\n",
       "      <th>11</th>\n",
       "      <td>1</td>\n",
       "      <td>2</td>\n",
       "      <td>1</td>\n",
       "    </tr>\n",
       "    <tr>\n",
       "      <th>12</th>\n",
       "      <td>1</td>\n",
       "      <td>0</td>\n",
       "      <td>0</td>\n",
       "    </tr>\n",
       "    <tr>\n",
       "      <th>13</th>\n",
       "      <td>1</td>\n",
       "      <td>0</td>\n",
       "      <td>1</td>\n",
       "    </tr>\n",
       "    <tr>\n",
       "      <th>14</th>\n",
       "      <td>1</td>\n",
       "      <td>1</td>\n",
       "      <td>0</td>\n",
       "    </tr>\n",
       "    <tr>\n",
       "      <th>15</th>\n",
       "      <td>1</td>\n",
       "      <td>1</td>\n",
       "      <td>1</td>\n",
       "    </tr>\n",
       "  </tbody>\n",
       "</table>\n",
       "</div>"
      ],
      "text/plain": [
       "    company_n  job_n  degree_n\n",
       "0           2      2         0\n",
       "1           2      2         1\n",
       "2           2      0         0\n",
       "3           2      0         1\n",
       "4           2      1         0\n",
       "5           2      1         1\n",
       "6           0      2         1\n",
       "7           0      1         0\n",
       "8           0      0         0\n",
       "9           0      0         1\n",
       "10          1      2         0\n",
       "11          1      2         1\n",
       "12          1      0         0\n",
       "13          1      0         1\n",
       "14          1      1         0\n",
       "15          1      1         1"
      ]
     },
     "execution_count": 31,
     "metadata": {},
     "output_type": "execute_result"
    }
   ],
   "source": [
    "X = X.drop(['company', 'job', 'degree'], axis='columns')\n",
    "X"
   ]
  },
  {
   "cell_type": "code",
   "execution_count": 32,
   "metadata": {},
   "outputs": [
    {
     "data": {
      "text/plain": [
       "0     0\n",
       "1     0\n",
       "2     1\n",
       "3     1\n",
       "4     0\n",
       "5     1\n",
       "6     0\n",
       "7     0\n",
       "8     0\n",
       "9     1\n",
       "10    1\n",
       "11    1\n",
       "12    1\n",
       "13    1\n",
       "14    1\n",
       "15    1\n",
       "Name: salary_more_than_100k, dtype: int64"
      ]
     },
     "execution_count": 32,
     "metadata": {},
     "output_type": "execute_result"
    }
   ],
   "source": [
    "y"
   ]
  },
  {
   "cell_type": "code",
   "execution_count": 33,
   "metadata": {},
   "outputs": [],
   "source": [
    "from sklearn import tree\n",
    "model = tree.DecisionTreeClassifier()"
   ]
  },
  {
   "cell_type": "code",
   "execution_count": 34,
   "metadata": {},
   "outputs": [
    {
     "data": {
      "text/plain": [
       "DecisionTreeClassifier()"
      ]
     },
     "execution_count": 34,
     "metadata": {},
     "output_type": "execute_result"
    }
   ],
   "source": [
    "model.fit(X, y)"
   ]
  },
  {
   "cell_type": "code",
   "execution_count": 35,
   "metadata": {},
   "outputs": [
    {
     "data": {
      "text/plain": [
       "1.0"
      ]
     },
     "execution_count": 35,
     "metadata": {},
     "output_type": "execute_result"
    }
   ],
   "source": [
    "model.score(X, y)"
   ]
  },
  {
   "cell_type": "code",
   "execution_count": 38,
   "metadata": {},
   "outputs": [
    {
     "data": {
      "text/plain": [
       "array([0])"
      ]
     },
     "execution_count": 38,
     "metadata": {},
     "output_type": "execute_result"
    }
   ],
   "source": [
    "model.predict([[2,1,0]])"
   ]
  },
  {
   "cell_type": "code",
   "execution_count": 40,
   "metadata": {},
   "outputs": [
    {
     "data": {
      "text/plain": [
       "[Text(0.36363636363636365, 0.9166666666666666, 'X[0] <= 0.5\\ngini = 0.469\\nsamples = 16\\nvalue = [6, 10]'),\n",
       " Text(0.18181818181818182, 0.75, 'X[2] <= 0.5\\ngini = 0.375\\nsamples = 4\\nvalue = [3, 1]'),\n",
       " Text(0.09090909090909091, 0.5833333333333334, 'gini = 0.0\\nsamples = 2\\nvalue = [2, 0]'),\n",
       " Text(0.2727272727272727, 0.5833333333333334, 'X[1] <= 1.0\\ngini = 0.5\\nsamples = 2\\nvalue = [1, 1]'),\n",
       " Text(0.18181818181818182, 0.4166666666666667, 'gini = 0.0\\nsamples = 1\\nvalue = [0, 1]'),\n",
       " Text(0.36363636363636365, 0.4166666666666667, 'gini = 0.0\\nsamples = 1\\nvalue = [1, 0]'),\n",
       " Text(0.5454545454545454, 0.75, 'X[0] <= 1.5\\ngini = 0.375\\nsamples = 12\\nvalue = [3, 9]'),\n",
       " Text(0.45454545454545453, 0.5833333333333334, 'gini = 0.0\\nsamples = 6\\nvalue = [0, 6]'),\n",
       " Text(0.6363636363636364, 0.5833333333333334, 'X[1] <= 0.5\\ngini = 0.5\\nsamples = 6\\nvalue = [3, 3]'),\n",
       " Text(0.5454545454545454, 0.4166666666666667, 'gini = 0.0\\nsamples = 2\\nvalue = [0, 2]'),\n",
       " Text(0.7272727272727273, 0.4166666666666667, 'X[2] <= 0.5\\ngini = 0.375\\nsamples = 4\\nvalue = [3, 1]'),\n",
       " Text(0.6363636363636364, 0.25, 'gini = 0.0\\nsamples = 2\\nvalue = [2, 0]'),\n",
       " Text(0.8181818181818182, 0.25, 'X[1] <= 1.5\\ngini = 0.5\\nsamples = 2\\nvalue = [1, 1]'),\n",
       " Text(0.7272727272727273, 0.08333333333333333, 'gini = 0.0\\nsamples = 1\\nvalue = [0, 1]'),\n",
       " Text(0.9090909090909091, 0.08333333333333333, 'gini = 0.0\\nsamples = 1\\nvalue = [1, 0]')]"
      ]
     },
     "execution_count": 40,
     "metadata": {},
     "output_type": "execute_result"
    },
    {
     "data": {
      "image/png": "[encoded data removed]",
      "text/plain": [
       "<Figure size 864x576 with 1 Axes>"
      ]
     },
     "metadata": {
      "needs_background": "dark"
     },
     "output_type": "display_data"
    }
   ],
   "source": [
    "plt.figure(figsize=(12,8))\n",
    "tree.plot_tree(model.fit(X.values, y.values))  "
   ]
  },
  {
   "cell_type": "code",
   "execution_count": 42,
   "metadata": {},
   "outputs": [
    {
     "data": {
      "image/svg+xml": "<?xml version=\"1.0\" encoding=\"UTF-8\" standalone=\"no\"?>\n<!DOCTYPE svg PUBLIC \"-//W3C//DTD SVG 1.1//EN\"\n \"http://www.w3.org/Graphics/SVG/1.1/DTD/svg11.dtd\">\n<!-- Generated by graphviz version 3.0.0 (20220226.1711)\n -->\n<!-- Title: Tree Pages: 1 -->\n<svg width=\"646pt\" height=\"581pt\"\n viewBox=\"0.00 0.00 646.00 581.00\" xmlns=\"http://www.w3.org/2000/svg\" xmlns:xlink=\"http://www.w3.org/1999/xlink\">\n<g id=\"graph0\" class=\"graph\" transform=\"scale(1 1) rotate(0) translate(4 577)\">\n<title>Tree</title>\n<polygon fill=\"white\" stroke=\"transparent\" points=\"-4,4 -4,-577 642,-577 642,4 -4,4\"/>\n<!-- 0 -->\n<g id=\"node1\" class=\"node\">\n<title>0</title>\n<path fill=\"#b0d8f5\" stroke=\"black\" d=\"M267,-573C267,-573 170,-573 170,-573 164,-573 158,-567 158,-561 158,-561 158,-517 158,-517 158,-511 164,-505 170,-505 170,-505 267,-505 267,-505 273,-505 279,-511 279,-517 279,-517 279,-561 279,-561 279,-567 273,-573 267,-573\"/>\n<text text-anchor=\"start\" x=\"166\" y=\"-557.8\" font-family=\"Helvetica,sans-Serif\" font-size=\"14.00\">company_n ≤ 0.5</text>\n<text text-anchor=\"start\" x=\"183\" y=\"-542.8\" font-family=\"Helvetica,sans-Serif\" font-size=\"14.00\">gini = 0.469</text>\n<text text-anchor=\"start\" x=\"177.5\" y=\"-527.8\" font-family=\"Helvetica,sans-Serif\" font-size=\"14.00\">samples = 16</text>\n<text text-anchor=\"start\" x=\"175.5\" y=\"-512.8\" font-family=\"Helvetica,sans-Serif\" font-size=\"14.00\">value = [6, 10]</text>\n</g>\n<!-- 1 -->\n<g id=\"node2\" class=\"node\">\n<title>1</title>\n<path fill=\"#eeab7b\" stroke=\"black\" d=\"M194,-469C194,-469 111,-469 111,-469 105,-469 99,-463 99,-457 99,-457 99,-413 99,-413 99,-407 105,-401 111,-401 111,-401 194,-401 194,-401 200,-401 206,-407 206,-413 206,-413 206,-457 206,-457 206,-463 200,-469 194,-469\"/>\n<text text-anchor=\"start\" x=\"107\" y=\"-453.8\" font-family=\"Helvetica,sans-Serif\" font-size=\"14.00\">degree_n ≤ 0.5</text>\n<text text-anchor=\"start\" x=\"117\" y=\"-438.8\" font-family=\"Helvetica,sans-Serif\" font-size=\"14.00\">gini = 0.375</text>\n<text text-anchor=\"start\" x=\"115\" y=\"-423.8\" font-family=\"Helvetica,sans-Serif\" font-size=\"14.00\">samples = 4</text>\n<text text-anchor=\"start\" x=\"113\" y=\"-408.8\" font-family=\"Helvetica,sans-Serif\" font-size=\"14.00\">value = [3, 1]</text>\n</g>\n<!-- 0&#45;&gt;1 -->\n<g id=\"edge1\" class=\"edge\">\n<title>0&#45;&gt;1</title>\n<path fill=\"none\" stroke=\"black\" d=\"M197.07,-504.88C191.48,-496.24 185.38,-486.82 179.54,-477.79\"/>\n<polygon fill=\"black\" stroke=\"black\" points=\"182.42,-475.79 174.05,-469.3 176.54,-479.6 182.42,-475.79\"/>\n<text text-anchor=\"middle\" x=\"168.81\" y=\"-490.04\" font-family=\"Helvetica,sans-Serif\" font-size=\"14.00\">True</text>\n</g>\n<!-- 6 -->\n<g id=\"node7\" class=\"node\">\n<title>6</title>\n<path fill=\"#7bbeee\" stroke=\"black\" d=\"M333,-469C333,-469 236,-469 236,-469 230,-469 224,-463 224,-457 224,-457 224,-413 224,-413 224,-407 230,-401 236,-401 236,-401 333,-401 333,-401 339,-401 345,-407 345,-413 345,-413 345,-457 345,-457 345,-463 339,-469 333,-469\"/>\n<text text-anchor=\"start\" x=\"232\" y=\"-453.8\" font-family=\"Helvetica,sans-Serif\" font-size=\"14.00\">company_n ≤ 1.5</text>\n<text text-anchor=\"start\" x=\"249\" y=\"-438.8\" font-family=\"Helvetica,sans-Serif\" font-size=\"14.00\">gini = 0.375</text>\n<text text-anchor=\"start\" x=\"243.5\" y=\"-423.8\" font-family=\"Helvetica,sans-Serif\" font-size=\"14.00\">samples = 12</text>\n<text text-anchor=\"start\" x=\"245\" y=\"-408.8\" font-family=\"Helvetica,sans-Serif\" font-size=\"14.00\">value = [3, 9]</text>\n</g>\n<!-- 0&#45;&gt;6 -->\n<g id=\"edge6\" class=\"edge\">\n<title>0&#45;&gt;6</title>\n<path fill=\"none\" stroke=\"black\" d=\"M239.93,-504.88C245.52,-496.24 251.62,-486.82 257.46,-477.79\"/>\n<polygon fill=\"black\" stroke=\"black\" points=\"260.46,-479.6 262.95,-469.3 254.58,-475.79 260.46,-479.6\"/>\n<text text-anchor=\"middle\" x=\"268.19\" y=\"-490.04\" font-family=\"Helvetica,sans-Serif\" font-size=\"14.00\">False</text>\n</g>\n<!-- 2 -->\n<g id=\"node3\" class=\"node\">\n<title>2</title>\n<path fill=\"#e58139\" stroke=\"black\" d=\"M83,-357.5C83,-357.5 12,-357.5 12,-357.5 6,-357.5 0,-351.5 0,-345.5 0,-345.5 0,-316.5 0,-316.5 0,-310.5 6,-304.5 12,-304.5 12,-304.5 83,-304.5 83,-304.5 89,-304.5 95,-310.5 95,-316.5 95,-316.5 95,-345.5 95,-345.5 95,-351.5 89,-357.5 83,-357.5\"/>\n<text text-anchor=\"start\" x=\"19.5\" y=\"-342.3\" font-family=\"Helvetica,sans-Serif\" font-size=\"14.00\">gini = 0.0</text>\n<text text-anchor=\"start\" x=\"10\" y=\"-327.3\" font-family=\"Helvetica,sans-Serif\" font-size=\"14.00\">samples = 2</text>\n<text text-anchor=\"start\" x=\"8\" y=\"-312.3\" font-family=\"Helvetica,sans-Serif\" font-size=\"14.00\">value = [2, 0]</text>\n</g>\n<!-- 1&#45;&gt;2 -->\n<g id=\"edge2\" class=\"edge\">\n<title>1&#45;&gt;2</title>\n<path fill=\"none\" stroke=\"black\" d=\"M118.41,-400.88C106.41,-389.23 92.94,-376.14 80.99,-364.53\"/>\n<polygon fill=\"black\" stroke=\"black\" points=\"83.38,-361.98 73.77,-357.52 78.5,-367 83.38,-361.98\"/>\n</g>\n<!-- 3 -->\n<g id=\"node4\" class=\"node\">\n<title>3</title>\n<path fill=\"#ffffff\" stroke=\"black\" d=\"M196,-365C196,-365 125,-365 125,-365 119,-365 113,-359 113,-353 113,-353 113,-309 113,-309 113,-303 119,-297 125,-297 125,-297 196,-297 196,-297 202,-297 208,-303 208,-309 208,-309 208,-353 208,-353 208,-359 202,-365 196,-365\"/>\n<text text-anchor=\"start\" x=\"127\" y=\"-349.8\" font-family=\"Helvetica,sans-Serif\" font-size=\"14.00\">job_n ≤ 1.0</text>\n<text text-anchor=\"start\" x=\"132.5\" y=\"-334.8\" font-family=\"Helvetica,sans-Serif\" font-size=\"14.00\">gini = 0.5</text>\n<text text-anchor=\"start\" x=\"123\" y=\"-319.8\" font-family=\"Helvetica,sans-Serif\" font-size=\"14.00\">samples = 2</text>\n<text text-anchor=\"start\" x=\"121\" y=\"-304.8\" font-family=\"Helvetica,sans-Serif\" font-size=\"14.00\">value = [1, 1]</text>\n</g>\n<!-- 1&#45;&gt;3 -->\n<g id=\"edge3\" class=\"edge\">\n<title>1&#45;&gt;3</title>\n<path fill=\"none\" stroke=\"black\" d=\"M155.1,-400.88C155.73,-392.78 156.42,-383.98 157.09,-375.47\"/>\n<polygon fill=\"black\" stroke=\"black\" points=\"160.6,-375.54 157.89,-365.3 153.62,-375 160.6,-375.54\"/>\n</g>\n<!-- 4 -->\n<g id=\"node5\" class=\"node\">\n<title>4</title>\n<path fill=\"#399de5\" stroke=\"black\" d=\"M139,-253.5C139,-253.5 68,-253.5 68,-253.5 62,-253.5 56,-247.5 56,-241.5 56,-241.5 56,-212.5 56,-212.5 56,-206.5 62,-200.5 68,-200.5 68,-200.5 139,-200.5 139,-200.5 145,-200.5 151,-206.5 151,-212.5 151,-212.5 151,-241.5 151,-241.5 151,-247.5 145,-253.5 139,-253.5\"/>\n<text text-anchor=\"start\" x=\"75.5\" y=\"-238.3\" font-family=\"Helvetica,sans-Serif\" font-size=\"14.00\">gini = 0.0</text>\n<text text-anchor=\"start\" x=\"66\" y=\"-223.3\" font-family=\"Helvetica,sans-Serif\" font-size=\"14.00\">samples = 1</text>\n<text text-anchor=\"start\" x=\"64\" y=\"-208.3\" font-family=\"Helvetica,sans-Serif\" font-size=\"14.00\">value = [0, 1]</text>\n</g>\n<!-- 3&#45;&gt;4 -->\n<g id=\"edge4\" class=\"edge\">\n<title>3&#45;&gt;4</title>\n<path fill=\"none\" stroke=\"black\" d=\"M141.99,-296.88C135.85,-285.89 128.99,-273.62 122.79,-262.52\"/>\n<polygon fill=\"black\" stroke=\"black\" points=\"125.69,-260.54 117.76,-253.52 119.58,-263.96 125.69,-260.54\"/>\n</g>\n<!-- 5 -->\n<g id=\"node6\" class=\"node\">\n<title>5</title>\n<path fill=\"#e58139\" stroke=\"black\" d=\"M252,-253.5C252,-253.5 181,-253.5 181,-253.5 175,-253.5 169,-247.5 169,-241.5 169,-241.5 169,-212.5 169,-212.5 169,-206.5 175,-200.5 181,-200.5 181,-200.5 252,-200.5 252,-200.5 258,-200.5 264,-206.5 264,-212.5 264,-212.5 264,-241.5 264,-241.5 264,-247.5 258,-253.5 252,-253.5\"/>\n<text text-anchor=\"start\" x=\"188.5\" y=\"-238.3\" font-family=\"Helvetica,sans-Serif\" font-size=\"14.00\">gini = 0.0</text>\n<text text-anchor=\"start\" x=\"179\" y=\"-223.3\" font-family=\"Helvetica,sans-Serif\" font-size=\"14.00\">samples = 1</text>\n<text text-anchor=\"start\" x=\"177\" y=\"-208.3\" font-family=\"Helvetica,sans-Serif\" font-size=\"14.00\">value = [1, 0]</text>\n</g>\n<!-- 3&#45;&gt;5 -->\n<g id=\"edge5\" class=\"edge\">\n<title>3&#45;&gt;5</title>\n<path fill=\"none\" stroke=\"black\" d=\"M178.68,-296.88C184.72,-285.89 191.46,-273.62 197.55,-262.52\"/>\n<polygon fill=\"black\" stroke=\"black\" points=\"200.74,-263.97 202.49,-253.52 194.61,-260.6 200.74,-263.97\"/>\n</g>\n<!-- 7 -->\n<g id=\"node8\" class=\"node\">\n<title>7</title>\n<path fill=\"#399de5\" stroke=\"black\" d=\"M312,-357.5C312,-357.5 241,-357.5 241,-357.5 235,-357.5 229,-351.5 229,-345.5 229,-345.5 229,-316.5 229,-316.5 229,-310.5 235,-304.5 241,-304.5 241,-304.5 312,-304.5 312,-304.5 318,-304.5 324,-310.5 324,-316.5 324,-316.5 324,-345.5 324,-345.5 324,-351.5 318,-357.5 312,-357.5\"/>\n<text text-anchor=\"start\" x=\"248.5\" y=\"-342.3\" font-family=\"Helvetica,sans-Serif\" font-size=\"14.00\">gini = 0.0</text>\n<text text-anchor=\"start\" x=\"239\" y=\"-327.3\" font-family=\"Helvetica,sans-Serif\" font-size=\"14.00\">samples = 6</text>\n<text text-anchor=\"start\" x=\"237\" y=\"-312.3\" font-family=\"Helvetica,sans-Serif\" font-size=\"14.00\">value = [0, 6]</text>\n</g>\n<!-- 6&#45;&gt;7 -->\n<g id=\"edge7\" class=\"edge\">\n<title>6&#45;&gt;7</title>\n<path fill=\"none\" stroke=\"black\" d=\"M281.9,-400.88C281.07,-390.22 280.14,-378.35 279.29,-367.52\"/>\n<polygon fill=\"black\" stroke=\"black\" points=\"282.77,-367.22 278.5,-357.52 275.79,-367.76 282.77,-367.22\"/>\n</g>\n<!-- 8 -->\n<g id=\"node9\" class=\"node\">\n<title>8</title>\n<path fill=\"#ffffff\" stroke=\"black\" d=\"M425,-365C425,-365 354,-365 354,-365 348,-365 342,-359 342,-353 342,-353 342,-309 342,-309 342,-303 348,-297 354,-297 354,-297 425,-297 425,-297 431,-297 437,-303 437,-309 437,-309 437,-353 437,-353 437,-359 431,-365 425,-365\"/>\n<text text-anchor=\"start\" x=\"356\" y=\"-349.8\" font-family=\"Helvetica,sans-Serif\" font-size=\"14.00\">job_n ≤ 0.5</text>\n<text text-anchor=\"start\" x=\"361.5\" y=\"-334.8\" font-family=\"Helvetica,sans-Serif\" font-size=\"14.00\">gini = 0.5</text>\n<text text-anchor=\"start\" x=\"352\" y=\"-319.8\" font-family=\"Helvetica,sans-Serif\" font-size=\"14.00\">samples = 6</text>\n<text text-anchor=\"start\" x=\"350\" y=\"-304.8\" font-family=\"Helvetica,sans-Serif\" font-size=\"14.00\">value = [3, 3]</text>\n</g>\n<!-- 6&#45;&gt;8 -->\n<g id=\"edge8\" class=\"edge\">\n<title>6&#45;&gt;8</title>\n<path fill=\"none\" stroke=\"black\" d=\"M318.59,-400.88C327.94,-391.8 338.19,-381.85 347.91,-372.4\"/>\n<polygon fill=\"black\" stroke=\"black\" points=\"350.49,-374.78 355.22,-365.3 345.61,-369.76 350.49,-374.78\"/>\n</g>\n<!-- 9 -->\n<g id=\"node10\" class=\"node\">\n<title>9</title>\n<path fill=\"#399de5\" stroke=\"black\" d=\"M395,-253.5C395,-253.5 324,-253.5 324,-253.5 318,-253.5 312,-247.5 312,-241.5 312,-241.5 312,-212.5 312,-212.5 312,-206.5 318,-200.5 324,-200.5 324,-200.5 395,-200.5 395,-200.5 401,-200.5 407,-206.5 407,-212.5 407,-212.5 407,-241.5 407,-241.5 407,-247.5 401,-253.5 395,-253.5\"/>\n<text text-anchor=\"start\" x=\"331.5\" y=\"-238.3\" font-family=\"Helvetica,sans-Serif\" font-size=\"14.00\">gini = 0.0</text>\n<text text-anchor=\"start\" x=\"322\" y=\"-223.3\" font-family=\"Helvetica,sans-Serif\" font-size=\"14.00\">samples = 2</text>\n<text text-anchor=\"start\" x=\"320\" y=\"-208.3\" font-family=\"Helvetica,sans-Serif\" font-size=\"14.00\">value = [0, 2]</text>\n</g>\n<!-- 8&#45;&gt;9 -->\n<g id=\"edge9\" class=\"edge\">\n<title>8&#45;&gt;9</title>\n<path fill=\"none\" stroke=\"black\" d=\"M379.76,-296.88C376.59,-286.11 373.06,-274.11 369.85,-263.18\"/>\n<polygon fill=\"black\" stroke=\"black\" points=\"373.19,-262.13 367.01,-253.52 366.47,-264.1 373.19,-262.13\"/>\n</g>\n<!-- 10 -->\n<g id=\"node11\" class=\"node\">\n<title>10</title>\n<path fill=\"#eeab7b\" stroke=\"black\" d=\"M520,-261C520,-261 437,-261 437,-261 431,-261 425,-255 425,-249 425,-249 425,-205 425,-205 425,-199 431,-193 437,-193 437,-193 520,-193 520,-193 526,-193 532,-199 532,-205 532,-205 532,-249 532,-249 532,-255 526,-261 520,-261\"/>\n<text text-anchor=\"start\" x=\"433\" y=\"-245.8\" font-family=\"Helvetica,sans-Serif\" font-size=\"14.00\">degree_n ≤ 0.5</text>\n<text text-anchor=\"start\" x=\"443\" y=\"-230.8\" font-family=\"Helvetica,sans-Serif\" font-size=\"14.00\">gini = 0.375</text>\n<text text-anchor=\"start\" x=\"441\" y=\"-215.8\" font-family=\"Helvetica,sans-Serif\" font-size=\"14.00\">samples = 4</text>\n<text text-anchor=\"start\" x=\"439\" y=\"-200.8\" font-family=\"Helvetica,sans-Serif\" font-size=\"14.00\">value = [3, 1]</text>\n</g>\n<!-- 8&#45;&gt;10 -->\n<g id=\"edge10\" class=\"edge\">\n<title>8&#45;&gt;10</title>\n<path fill=\"none\" stroke=\"black\" d=\"M418.4,-296.88C426.17,-287.98 434.67,-278.24 442.76,-268.96\"/>\n<polygon fill=\"black\" stroke=\"black\" points=\"445.51,-271.14 449.44,-261.3 440.23,-266.53 445.51,-271.14\"/>\n</g>\n<!-- 11 -->\n<g id=\"node12\" class=\"node\">\n<title>11</title>\n<path fill=\"#e58139\" stroke=\"black\" d=\"M457,-149.5C457,-149.5 386,-149.5 386,-149.5 380,-149.5 374,-143.5 374,-137.5 374,-137.5 374,-108.5 374,-108.5 374,-102.5 380,-96.5 386,-96.5 386,-96.5 457,-96.5 457,-96.5 463,-96.5 469,-102.5 469,-108.5 469,-108.5 469,-137.5 469,-137.5 469,-143.5 463,-149.5 457,-149.5\"/>\n<text text-anchor=\"start\" x=\"393.5\" y=\"-134.3\" font-family=\"Helvetica,sans-Serif\" font-size=\"14.00\">gini = 0.0</text>\n<text text-anchor=\"start\" x=\"384\" y=\"-119.3\" font-family=\"Helvetica,sans-Serif\" font-size=\"14.00\">samples = 2</text>\n<text text-anchor=\"start\" x=\"382\" y=\"-104.3\" font-family=\"Helvetica,sans-Serif\" font-size=\"14.00\">value = [2, 0]</text>\n</g>\n<!-- 10&#45;&gt;11 -->\n<g id=\"edge11\" class=\"edge\">\n<title>10&#45;&gt;11</title>\n<path fill=\"none\" stroke=\"black\" d=\"M459.99,-192.88C453.85,-181.89 446.99,-169.62 440.79,-158.52\"/>\n<polygon fill=\"black\" stroke=\"black\" points=\"443.69,-156.54 435.76,-149.52 437.58,-159.96 443.69,-156.54\"/>\n</g>\n<!-- 12 -->\n<g id=\"node13\" class=\"node\">\n<title>12</title>\n<path fill=\"#ffffff\" stroke=\"black\" d=\"M570,-157C570,-157 499,-157 499,-157 493,-157 487,-151 487,-145 487,-145 487,-101 487,-101 487,-95 493,-89 499,-89 499,-89 570,-89 570,-89 576,-89 582,-95 582,-101 582,-101 582,-145 582,-145 582,-151 576,-157 570,-157\"/>\n<text text-anchor=\"start\" x=\"501\" y=\"-141.8\" font-family=\"Helvetica,sans-Serif\" font-size=\"14.00\">job_n ≤ 1.5</text>\n<text text-anchor=\"start\" x=\"506.5\" y=\"-126.8\" font-family=\"Helvetica,sans-Serif\" font-size=\"14.00\">gini = 0.5</text>\n<text text-anchor=\"start\" x=\"497\" y=\"-111.8\" font-family=\"Helvetica,sans-Serif\" font-size=\"14.00\">samples = 2</text>\n<text text-anchor=\"start\" x=\"495\" y=\"-96.8\" font-family=\"Helvetica,sans-Serif\" font-size=\"14.00\">value = [1, 1]</text>\n</g>\n<!-- 10&#45;&gt;12 -->\n<g id=\"edge12\" class=\"edge\">\n<title>10&#45;&gt;12</title>\n<path fill=\"none\" stroke=\"black\" d=\"M496.68,-192.88C501.38,-184.33 506.49,-175.01 511.4,-166.07\"/>\n<polygon fill=\"black\" stroke=\"black\" points=\"514.47,-167.75 516.22,-157.3 508.34,-164.38 514.47,-167.75\"/>\n</g>\n<!-- 13 -->\n<g id=\"node14\" class=\"node\">\n<title>13</title>\n<path fill=\"#399de5\" stroke=\"black\" d=\"M513,-53C513,-53 442,-53 442,-53 436,-53 430,-47 430,-41 430,-41 430,-12 430,-12 430,-6 436,0 442,0 442,0 513,0 513,0 519,0 525,-6 525,-12 525,-12 525,-41 525,-41 525,-47 519,-53 513,-53\"/>\n<text text-anchor=\"start\" x=\"449.5\" y=\"-37.8\" font-family=\"Helvetica,sans-Serif\" font-size=\"14.00\">gini = 0.0</text>\n<text text-anchor=\"start\" x=\"440\" y=\"-22.8\" font-family=\"Helvetica,sans-Serif\" font-size=\"14.00\">samples = 1</text>\n<text text-anchor=\"start\" x=\"438\" y=\"-7.8\" font-family=\"Helvetica,sans-Serif\" font-size=\"14.00\">value = [0, 1]</text>\n</g>\n<!-- 12&#45;&gt;13 -->\n<g id=\"edge13\" class=\"edge\">\n<title>12&#45;&gt;13</title>\n<path fill=\"none\" stroke=\"black\" d=\"M514.56,-88.95C509.27,-80.17 503.53,-70.66 498.2,-61.82\"/>\n<polygon fill=\"black\" stroke=\"black\" points=\"501.19,-59.99 493.02,-53.24 495.19,-63.61 501.19,-59.99\"/>\n</g>\n<!-- 14 -->\n<g id=\"node15\" class=\"node\">\n<title>14</title>\n<path fill=\"#e58139\" stroke=\"black\" d=\"M626,-53C626,-53 555,-53 555,-53 549,-53 543,-47 543,-41 543,-41 543,-12 543,-12 543,-6 549,0 555,0 555,0 626,0 626,0 632,0 638,-6 638,-12 638,-12 638,-41 638,-41 638,-47 632,-53 626,-53\"/>\n<text text-anchor=\"start\" x=\"562.5\" y=\"-37.8\" font-family=\"Helvetica,sans-Serif\" font-size=\"14.00\">gini = 0.0</text>\n<text text-anchor=\"start\" x=\"553\" y=\"-22.8\" font-family=\"Helvetica,sans-Serif\" font-size=\"14.00\">samples = 1</text>\n<text text-anchor=\"start\" x=\"551\" y=\"-7.8\" font-family=\"Helvetica,sans-Serif\" font-size=\"14.00\">value = [1, 0]</text>\n</g>\n<!-- 12&#45;&gt;14 -->\n<g id=\"edge14\" class=\"edge\">\n<title>12&#45;&gt;14</title>\n<path fill=\"none\" stroke=\"black\" d=\"M554.09,-88.95C559.24,-80.26 564.8,-70.86 570,-62.09\"/>\n<polygon fill=\"black\" stroke=\"black\" points=\"573.16,-63.62 575.25,-53.24 567.14,-60.06 573.16,-63.62\"/>\n</g>\n</g>\n</svg>\n",
      "text/plain": [
       "<graphviz.sources.Source at 0x17b9bb760>"
      ]
     },
     "execution_count": 42,
     "metadata": {},
     "output_type": "execute_result"
    }
   ],
   "source": [
    "import graphviz\n",
    "t = tree.export_graphviz(model, feature_names=X.columns, filled=True,\n",
    "rounded=True, special_characters=True)\n",
    "\n",
    "graph = graphviz.Source(t)\n",
    "graph"
   ]
  }
 ],
 "metadata": {
  "interpreter": {
   "hash": "59c0d54295269212dacd944a2be0139f5619541711cd1c2d99809e4682da3f84"
  },
  "kernelspec": {
   "display_name": "Python 3.8.9 ('venv': venv)",
   "language": "python",
   "name": "python3"
  },
  "language_info": {
   "codemirror_mode": {
    "name": "ipython",
    "version": 3
   },
   "file_extension": ".py",
   "mimetype": "text/x-python",
   "name": "python",
   "nbconvert_exporter": "python",
   "pygments_lexer": "ipython3",
   "version": "3.8.9"
  },
  "orig_nbformat": 4
 },
 "nbformat": 4,
 "nbformat_minor": 2
}
