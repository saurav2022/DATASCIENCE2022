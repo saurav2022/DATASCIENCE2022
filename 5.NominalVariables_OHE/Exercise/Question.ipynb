{
 "cells": [
  {
   "cell_type": "markdown",
   "metadata": {},
   "source": [
    "First plot data points on a scatter plot to see if Linear Regression model can be applied.\n",
    "If yes then build a model that can answer the following questions:\n",
    "1) Predict price of a Mercedes Benz that is 4 years old with mileage 45000\n",
    "2) Predict price of a BMW X5 that is 7 years old with mileage 86000\n",
    "3) Tell me the accuracy of your model"
   ]
  }
 ],
 "metadata": {
  "language_info": {
   "name": "python"
  },
  "orig_nbformat": 4
 },
 "nbformat": 4,
 "nbformat_minor": 2
}
