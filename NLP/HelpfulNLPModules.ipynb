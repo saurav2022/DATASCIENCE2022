{
 "cells": [
  {
   "cell_type": "code",
   "execution_count": null,
   "metadata": {},
   "outputs": [],
   "source": [
    "!pip install presidio_analyzer"
   ]
  },
  {
   "cell_type": "code",
   "execution_count": null,
   "metadata": {},
   "outputs": [],
   "source": [
    "!pip install presidio_anonymizer"
   ]
  },
  {
   "cell_type": "code",
   "execution_count": null,
   "metadata": {},
   "outputs": [],
   "source": [
    "!python -m spacy download en_core_web_lg"
   ]
  },
  {
   "cell_type": "markdown",
   "metadata": {},
   "source": [
    "# Presidio Analyzer & Anonymizer \n",
    "Helps to detect PII data and gracefully masks them with proper label."
   ]
  },
  {
   "cell_type": "code",
   "execution_count": 6,
   "metadata": {},
   "outputs": [
    {
     "name": "stdout",
     "output_type": "stream",
     "text": [
      "<PERSON> had a concert in San Francisco last Friday. He can be reached at <PHONE_NUMBER> and his email id is <EMAIL_ADDRESS>\n"
     ]
    }
   ],
   "source": [
    "from html import entities\n",
    "from langcodes import Language\n",
    "from presidio_anonymizer import AnonymizerEngine\n",
    "from presidio_analyzer import AnalyzerEngine\n",
    "from presidio_anonymizer.entities import OperatorConfig\n",
    "\n",
    "txt = \"Justin Bieber had a concert in San Francisco last Friday. He can be reached at 647-671-6711 and his email id is justin.bieber@gmail.com\"\n",
    "\n",
    "analyzer = AnalyzerEngine()\n",
    "analyzer_results = analyzer.analyze(text = txt, \n",
    "    entities=[\"EMAIL_ADDRESS\", \"PERSON\", \"PHONE_NUMBER\"],\n",
    "    language='en')\n",
    "\n",
    "anonymizer = AnonymizerEngine()\n",
    "anonymized_results = anonymizer.anonymize(text = txt, analyzer_results=analyzer_results)\n",
    "\n",
    "print(anonymized_results.text)"
   ]
  },
  {
   "cell_type": "markdown",
   "metadata": {},
   "source": [
    "# SymSpell"
   ]
  },
  {
   "cell_type": "code",
   "execution_count": null,
   "metadata": {},
   "outputs": [],
   "source": [
    "!pip install symspellpy==6.7.1"
   ]
  },
  {
   "cell_type": "code",
   "execution_count": 14,
   "metadata": {},
   "outputs": [
    {
     "data": {
      "text/plain": [
       "'OUTPUT : The restaurant had great food The location is nice as well'"
      ]
     },
     "execution_count": 14,
     "metadata": {},
     "output_type": "execute_result"
    }
   ],
   "source": [
    "from symspellpy import SymSpell, Verbosity\n",
    "\n",
    "import pkg_resources\n",
    "\n",
    "sym_spell = SymSpell(max_dictionary_edit_distance=2, prefix_length=7)\n",
    "dictionary_path = pkg_resources.resource_filename(\"symspellpy\", \"frequency_dictionary_en_82_765.txt\")\n",
    "\n",
    "sym_spell.load_dictionary(dictionary_path, term_index=0, count_index=1)\n",
    "\n",
    "def symspell_corrector(input_term):\n",
    "    suggestions = sym_spell.lookup_compound(\n",
    "        phrase=input_term,\n",
    "        max_edit_distance=2,\n",
    "        transfer_casing=True,\n",
    "        ignore_term_with_digits=True,\n",
    "        ignore_non_words=True,\n",
    "        split_by_space=True\n",
    "    ) \n",
    "\n",
    "    for suggestion in suggestions:\n",
    "        return f\"OUTPUT : {suggestion.term}\"\n",
    "\n",
    "text = \"The resturant had greatfood. The location ws nise as wel.\"\n",
    "symspell_corrector(text)"
   ]
  },
  {
   "cell_type": "markdown",
   "metadata": {},
   "source": [
    "# PySBD (Python Sentence Boundary Disambiguation)"
   ]
  },
  {
   "cell_type": "code",
   "execution_count": null,
   "metadata": {},
   "outputs": [],
   "source": [
    "!pip install pysbd"
   ]
  },
  {
   "cell_type": "code",
   "execution_count": 20,
   "metadata": {},
   "outputs": [
    {
     "name": "stdout",
     "output_type": "stream",
     "text": [
      "['My name is S. K. Bhattacharyya.', 'I have read the book up to p. 45.', 'At 5: 30 P.M. we will talk about A.W.S.']\n"
     ]
    }
   ],
   "source": [
    "from pysbd import Segmenter\n",
    "segmenter = Segmenter(language='en', clean=True)\n",
    "text = \"My name is S. K. Bhattacharyya. I have read the book up to p. 45. At 5: 30 P.M. we will talk about A.W.S.\"\n",
    "print(segmenter.segment(text))"
   ]
  },
  {
   "cell_type": "markdown",
   "metadata": {},
   "source": [
    "# Contractions"
   ]
  },
  {
   "cell_type": "code",
   "execution_count": null,
   "metadata": {},
   "outputs": [],
   "source": [
    "!pip install contractions"
   ]
  },
  {
   "cell_type": "code",
   "execution_count": 23,
   "metadata": {},
   "outputs": [
    {
     "name": "stdout",
     "output_type": "stream",
     "text": [
      "i have got to go! Going To miss you. i will see you all later.\n"
     ]
    }
   ],
   "source": [
    "import contractions\n",
    "\n",
    "a = \"ive gotta go! Gonna miss you. i'll see yall later.\"\n",
    "text = contractions.fix(a, slang=True)\n",
    "print(text)"
   ]
  },
  {
   "cell_type": "markdown",
   "metadata": {},
   "source": [
    "# Gibberish Detector"
   ]
  },
  {
   "cell_type": "code",
   "execution_count": null,
   "metadata": {},
   "outputs": [],
   "source": [
    "!pip install gibberish_detector"
   ]
  },
  {
   "cell_type": "code",
   "execution_count": 25,
   "metadata": {},
   "outputs": [],
   "source": [
    "!gibberish-detector train big.txt > gibberish-detector.model"
   ]
  },
  {
   "cell_type": "code",
   "execution_count": 26,
   "metadata": {},
   "outputs": [
    {
     "name": "stdout",
     "output_type": "stream",
     "text": [
      "True\n",
      "False\n"
     ]
    }
   ],
   "source": [
    "from gibberish_detector import detector\n",
    "Detector = detector.create_from_model('gibberish-detector.model')\n",
    "text1 = \"jkdjsjgsdfgjsdgfjdsgfjsd\"\n",
    "print(Detector.is_gibberish(text1))\n",
    "\n",
    "text2 = \"apple\"\n",
    "print(Detector.is_gibberish(text2))\n"
   ]
  }
 ],
 "metadata": {
  "kernelspec": {
   "display_name": "Python 3.9.6 ('venv': venv)",
   "language": "python",
   "name": "python3"
  },
  "language_info": {
   "codemirror_mode": {
    "name": "ipython",
    "version": 3
   },
   "file_extension": ".py",
   "mimetype": "text/x-python",
   "name": "python",
   "nbconvert_exporter": "python",
   "pygments_lexer": "ipython3",
   "version": "3.9.6"
  },
  "orig_nbformat": 4,
  "vscode": {
   "interpreter": {
    "hash": "59c0d54295269212dacd944a2be0139f5619541711cd1c2d99809e4682da3f84"
   }
  }
 },
 "nbformat": 4,
 "nbformat_minor": 2
}
