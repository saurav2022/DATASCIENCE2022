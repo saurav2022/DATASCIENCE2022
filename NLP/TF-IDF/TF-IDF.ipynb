{
 "cells": [
  {
   "cell_type": "code",
   "execution_count": 104,
   "metadata": {},
   "outputs": [],
   "source": [
    "docA = \"I love my India\"\n",
    "docB = \"I love the mathematical aspects of Data Science\"\n",
    "docC= \"Science education in India has progressed a lot during early independence\"\n"
   ]
  },
  {
   "cell_type": "code",
   "execution_count": 105,
   "metadata": {},
   "outputs": [],
   "source": [
    "bowA = docA.split(\" \")\n",
    "bowB = docB.split(\" \")\n",
    "bowC = docC.split(\" \")"
   ]
  },
  {
   "cell_type": "code",
   "execution_count": 106,
   "metadata": {},
   "outputs": [],
   "source": [
    "wordSet = set(bowA).union(set(bowB)).union(set(bowC))"
   ]
  },
  {
   "cell_type": "code",
   "execution_count": 107,
   "metadata": {},
   "outputs": [],
   "source": [
    "wordDictA = dict.fromkeys(wordSet, 0)\n",
    "wordDictB = dict.fromkeys(wordSet, 0)\n",
    "wordDictC = dict.fromkeys(wordSet, 0)\n"
   ]
  },
  {
   "cell_type": "code",
   "execution_count": 108,
   "metadata": {},
   "outputs": [
    {
     "data": {
      "text/plain": [
       "{'a': 0,\n",
       " 'Science': 1,\n",
       " 'in': 0,\n",
       " 'my': 0,\n",
       " 'India': 0,\n",
       " 'education': 0,\n",
       " 'the': 1,\n",
       " 'aspects': 1,\n",
       " 'I': 1,\n",
       " 'early': 0,\n",
       " 'Data': 1,\n",
       " 'has': 0,\n",
       " 'lot': 0,\n",
       " 'mathematical': 1,\n",
       " 'of': 1,\n",
       " 'progressed': 0,\n",
       " 'love': 1,\n",
       " 'independence': 0,\n",
       " 'during': 0}"
      ]
     },
     "execution_count": 108,
     "metadata": {},
     "output_type": "execute_result"
    }
   ],
   "source": [
    "for word in bowA:\n",
    "    wordDictA[word] += 1\n",
    "\n",
    "for word in bowB:\n",
    "    wordDictB[word] += 1\n",
    "\n",
    "for word in bowC:\n",
    "    wordDictC[word] += 1\n",
    "\n",
    "wordDictB"
   ]
  },
  {
   "cell_type": "code",
   "execution_count": 109,
   "metadata": {},
   "outputs": [
    {
     "data": {
      "text/html": [
       "<div>\n",
       "<style scoped>\n",
       "    .dataframe tbody tr th:only-of-type {\n",
       "        vertical-align: middle;\n",
       "    }\n",
       "\n",
       "    .dataframe tbody tr th {\n",
       "        vertical-align: top;\n",
       "    }\n",
       "\n",
       "    .dataframe thead th {\n",
       "        text-align: right;\n",
       "    }\n",
       "</style>\n",
       "<table border=\"1\" class=\"dataframe\">\n",
       "  <thead>\n",
       "    <tr style=\"text-align: right;\">\n",
       "      <th></th>\n",
       "      <th>a</th>\n",
       "      <th>Science</th>\n",
       "      <th>in</th>\n",
       "      <th>my</th>\n",
       "      <th>India</th>\n",
       "      <th>education</th>\n",
       "      <th>the</th>\n",
       "      <th>aspects</th>\n",
       "      <th>I</th>\n",
       "      <th>early</th>\n",
       "      <th>Data</th>\n",
       "      <th>has</th>\n",
       "      <th>lot</th>\n",
       "      <th>mathematical</th>\n",
       "      <th>of</th>\n",
       "      <th>progressed</th>\n",
       "      <th>love</th>\n",
       "      <th>independence</th>\n",
       "      <th>during</th>\n",
       "    </tr>\n",
       "  </thead>\n",
       "  <tbody>\n",
       "    <tr>\n",
       "      <th>0</th>\n",
       "      <td>0</td>\n",
       "      <td>0</td>\n",
       "      <td>0</td>\n",
       "      <td>1</td>\n",
       "      <td>1</td>\n",
       "      <td>0</td>\n",
       "      <td>0</td>\n",
       "      <td>0</td>\n",
       "      <td>1</td>\n",
       "      <td>0</td>\n",
       "      <td>0</td>\n",
       "      <td>0</td>\n",
       "      <td>0</td>\n",
       "      <td>0</td>\n",
       "      <td>0</td>\n",
       "      <td>0</td>\n",
       "      <td>1</td>\n",
       "      <td>0</td>\n",
       "      <td>0</td>\n",
       "    </tr>\n",
       "    <tr>\n",
       "      <th>1</th>\n",
       "      <td>0</td>\n",
       "      <td>1</td>\n",
       "      <td>0</td>\n",
       "      <td>0</td>\n",
       "      <td>0</td>\n",
       "      <td>0</td>\n",
       "      <td>1</td>\n",
       "      <td>1</td>\n",
       "      <td>1</td>\n",
       "      <td>0</td>\n",
       "      <td>1</td>\n",
       "      <td>0</td>\n",
       "      <td>0</td>\n",
       "      <td>1</td>\n",
       "      <td>1</td>\n",
       "      <td>0</td>\n",
       "      <td>1</td>\n",
       "      <td>0</td>\n",
       "      <td>0</td>\n",
       "    </tr>\n",
       "    <tr>\n",
       "      <th>2</th>\n",
       "      <td>1</td>\n",
       "      <td>1</td>\n",
       "      <td>1</td>\n",
       "      <td>0</td>\n",
       "      <td>1</td>\n",
       "      <td>1</td>\n",
       "      <td>0</td>\n",
       "      <td>0</td>\n",
       "      <td>0</td>\n",
       "      <td>1</td>\n",
       "      <td>0</td>\n",
       "      <td>1</td>\n",
       "      <td>1</td>\n",
       "      <td>0</td>\n",
       "      <td>0</td>\n",
       "      <td>1</td>\n",
       "      <td>0</td>\n",
       "      <td>1</td>\n",
       "      <td>1</td>\n",
       "    </tr>\n",
       "  </tbody>\n",
       "</table>\n",
       "</div>"
      ],
      "text/plain": [
       "   a  Science  in  my  India  education  the  aspects  I  early  Data  has  \\\n",
       "0  0        0   0   1      1          0    0        0  1      0     0    0   \n",
       "1  0        1   0   0      0          0    1        1  1      0     1    0   \n",
       "2  1        1   1   0      1          1    0        0  0      1     0    1   \n",
       "\n",
       "   lot  mathematical  of  progressed  love  independence  during  \n",
       "0    0             0   0           0     1             0       0  \n",
       "1    0             1   1           0     1             0       0  \n",
       "2    1             0   0           1     0             1       1  "
      ]
     },
     "execution_count": 109,
     "metadata": {},
     "output_type": "execute_result"
    }
   ],
   "source": [
    "import pandas as pd\n",
    "pd.DataFrame([wordDictA, wordDictB, wordDictC])"
   ]
  },
  {
   "cell_type": "markdown",
   "metadata": {},
   "source": [
    "# Term Frequency"
   ]
  },
  {
   "cell_type": "code",
   "execution_count": 110,
   "metadata": {},
   "outputs": [],
   "source": [
    "def computeTF(wordDict, bow):\n",
    "    tfDict = {}\n",
    "    bowCount = len(bow)\n",
    "    for word, count in wordDict.items():\n",
    "        tfDict[word] = count / bowCount\n",
    "    return tfDict"
   ]
  },
  {
   "cell_type": "code",
   "execution_count": 111,
   "metadata": {},
   "outputs": [],
   "source": [
    "tfBowA = computeTF(wordDictA, bowA)\n",
    "tfBowB = computeTF(wordDictB, bowB)\n",
    "tfBowC = computeTF(wordDictC, bowC)"
   ]
  },
  {
   "cell_type": "code",
   "execution_count": 112,
   "metadata": {},
   "outputs": [
    {
     "data": {
      "text/html": [
       "<div>\n",
       "<style scoped>\n",
       "    .dataframe tbody tr th:only-of-type {\n",
       "        vertical-align: middle;\n",
       "    }\n",
       "\n",
       "    .dataframe tbody tr th {\n",
       "        vertical-align: top;\n",
       "    }\n",
       "\n",
       "    .dataframe thead th {\n",
       "        text-align: right;\n",
       "    }\n",
       "</style>\n",
       "<table border=\"1\" class=\"dataframe\">\n",
       "  <thead>\n",
       "    <tr style=\"text-align: right;\">\n",
       "      <th></th>\n",
       "      <th>a</th>\n",
       "      <th>Science</th>\n",
       "      <th>in</th>\n",
       "      <th>my</th>\n",
       "      <th>India</th>\n",
       "      <th>education</th>\n",
       "      <th>the</th>\n",
       "      <th>aspects</th>\n",
       "      <th>I</th>\n",
       "      <th>early</th>\n",
       "      <th>Data</th>\n",
       "      <th>has</th>\n",
       "      <th>lot</th>\n",
       "      <th>mathematical</th>\n",
       "      <th>of</th>\n",
       "      <th>progressed</th>\n",
       "      <th>love</th>\n",
       "      <th>independence</th>\n",
       "      <th>during</th>\n",
       "    </tr>\n",
       "  </thead>\n",
       "  <tbody>\n",
       "    <tr>\n",
       "      <th>0</th>\n",
       "      <td>0.000000</td>\n",
       "      <td>0.000000</td>\n",
       "      <td>0.000000</td>\n",
       "      <td>0.25</td>\n",
       "      <td>0.250000</td>\n",
       "      <td>0.000000</td>\n",
       "      <td>0.000</td>\n",
       "      <td>0.000</td>\n",
       "      <td>0.250</td>\n",
       "      <td>0.000000</td>\n",
       "      <td>0.000</td>\n",
       "      <td>0.000000</td>\n",
       "      <td>0.000000</td>\n",
       "      <td>0.000</td>\n",
       "      <td>0.000</td>\n",
       "      <td>0.000000</td>\n",
       "      <td>0.250</td>\n",
       "      <td>0.000000</td>\n",
       "      <td>0.000000</td>\n",
       "    </tr>\n",
       "    <tr>\n",
       "      <th>1</th>\n",
       "      <td>0.000000</td>\n",
       "      <td>0.125000</td>\n",
       "      <td>0.000000</td>\n",
       "      <td>0.00</td>\n",
       "      <td>0.000000</td>\n",
       "      <td>0.000000</td>\n",
       "      <td>0.125</td>\n",
       "      <td>0.125</td>\n",
       "      <td>0.125</td>\n",
       "      <td>0.000000</td>\n",
       "      <td>0.125</td>\n",
       "      <td>0.000000</td>\n",
       "      <td>0.000000</td>\n",
       "      <td>0.125</td>\n",
       "      <td>0.125</td>\n",
       "      <td>0.000000</td>\n",
       "      <td>0.125</td>\n",
       "      <td>0.000000</td>\n",
       "      <td>0.000000</td>\n",
       "    </tr>\n",
       "    <tr>\n",
       "      <th>2</th>\n",
       "      <td>0.090909</td>\n",
       "      <td>0.090909</td>\n",
       "      <td>0.090909</td>\n",
       "      <td>0.00</td>\n",
       "      <td>0.090909</td>\n",
       "      <td>0.090909</td>\n",
       "      <td>0.000</td>\n",
       "      <td>0.000</td>\n",
       "      <td>0.000</td>\n",
       "      <td>0.090909</td>\n",
       "      <td>0.000</td>\n",
       "      <td>0.090909</td>\n",
       "      <td>0.090909</td>\n",
       "      <td>0.000</td>\n",
       "      <td>0.000</td>\n",
       "      <td>0.090909</td>\n",
       "      <td>0.000</td>\n",
       "      <td>0.090909</td>\n",
       "      <td>0.090909</td>\n",
       "    </tr>\n",
       "  </tbody>\n",
       "</table>\n",
       "</div>"
      ],
      "text/plain": [
       "          a   Science        in    my     India  education    the  aspects  \\\n",
       "0  0.000000  0.000000  0.000000  0.25  0.250000   0.000000  0.000    0.000   \n",
       "1  0.000000  0.125000  0.000000  0.00  0.000000   0.000000  0.125    0.125   \n",
       "2  0.090909  0.090909  0.090909  0.00  0.090909   0.090909  0.000    0.000   \n",
       "\n",
       "       I     early   Data       has       lot  mathematical     of  \\\n",
       "0  0.250  0.000000  0.000  0.000000  0.000000         0.000  0.000   \n",
       "1  0.125  0.000000  0.125  0.000000  0.000000         0.125  0.125   \n",
       "2  0.000  0.090909  0.000  0.090909  0.090909         0.000  0.000   \n",
       "\n",
       "   progressed   love  independence    during  \n",
       "0    0.000000  0.250      0.000000  0.000000  \n",
       "1    0.000000  0.125      0.000000  0.000000  \n",
       "2    0.090909  0.000      0.090909  0.090909  "
      ]
     },
     "execution_count": 112,
     "metadata": {},
     "output_type": "execute_result"
    }
   ],
   "source": [
    "pd.DataFrame([tfBowA, tfBowB, tfBowC])"
   ]
  },
  {
   "cell_type": "markdown",
   "metadata": {},
   "source": [
    "# Inverse Data Frequency"
   ]
  },
  {
   "cell_type": "code",
   "execution_count": 113,
   "metadata": {},
   "outputs": [],
   "source": [
    "import math \n",
    "\n",
    "def computeIDF(docList):\n",
    "    idfDict = {}\n",
    "    idfDict = dict.fromkeys(docList[0].keys(), 0)\n",
    "    N = len(docList)\n",
    "\n",
    "    for doc in docList:\n",
    "        for word, val in doc.items():\n",
    "            if val > 0:\n",
    "                idfDict[word] += 1\n",
    "    \n",
    "    for word, val in idfDict.items():\n",
    "        idfDict[word] = math.log(N / val) + 1\n",
    "\n",
    "    return idfDict\n"
   ]
  },
  {
   "cell_type": "code",
   "execution_count": 114,
   "metadata": {},
   "outputs": [],
   "source": [
    "idfs = computeIDF([wordDictA, wordDictB, wordDictC])"
   ]
  },
  {
   "cell_type": "code",
   "execution_count": 115,
   "metadata": {},
   "outputs": [
    {
     "data": {
      "text/plain": [
       "{'a': 2.09861228866811,\n",
       " 'Science': 1.4054651081081644,\n",
       " 'in': 2.09861228866811,\n",
       " 'my': 2.09861228866811,\n",
       " 'India': 1.4054651081081644,\n",
       " 'education': 2.09861228866811,\n",
       " 'the': 2.09861228866811,\n",
       " 'aspects': 2.09861228866811,\n",
       " 'I': 1.4054651081081644,\n",
       " 'early': 2.09861228866811,\n",
       " 'Data': 2.09861228866811,\n",
       " 'has': 2.09861228866811,\n",
       " 'lot': 2.09861228866811,\n",
       " 'mathematical': 2.09861228866811,\n",
       " 'of': 2.09861228866811,\n",
       " 'progressed': 2.09861228866811,\n",
       " 'love': 1.4054651081081644,\n",
       " 'independence': 2.09861228866811,\n",
       " 'during': 2.09861228866811}"
      ]
     },
     "execution_count": 115,
     "metadata": {},
     "output_type": "execute_result"
    }
   ],
   "source": [
    "idfs"
   ]
  },
  {
   "cell_type": "code",
   "execution_count": 116,
   "metadata": {},
   "outputs": [],
   "source": [
    "def computeTFIDF(tfBow, idfs):\n",
    "    tfidf = {}\n",
    "    for word, val in tfBow.items():\n",
    "        tfidf[word] = val * idfs[word]\n",
    "    return tfidf"
   ]
  },
  {
   "cell_type": "code",
   "execution_count": 117,
   "metadata": {},
   "outputs": [],
   "source": [
    "tfidfBowA = computeTFIDF(tfBowA, idfs)\n",
    "tfidfBowB = computeTFIDF(tfBowB, idfs)\n",
    "tfidfBowC = computeTFIDF(tfBowC, idfs)"
   ]
  },
  {
   "cell_type": "code",
   "execution_count": 118,
   "metadata": {},
   "outputs": [
    {
     "data": {
      "text/html": [
       "<div>\n",
       "<style scoped>\n",
       "    .dataframe tbody tr th:only-of-type {\n",
       "        vertical-align: middle;\n",
       "    }\n",
       "\n",
       "    .dataframe tbody tr th {\n",
       "        vertical-align: top;\n",
       "    }\n",
       "\n",
       "    .dataframe thead th {\n",
       "        text-align: right;\n",
       "    }\n",
       "</style>\n",
       "<table border=\"1\" class=\"dataframe\">\n",
       "  <thead>\n",
       "    <tr style=\"text-align: right;\">\n",
       "      <th></th>\n",
       "      <th>a</th>\n",
       "      <th>Science</th>\n",
       "      <th>in</th>\n",
       "      <th>my</th>\n",
       "      <th>India</th>\n",
       "      <th>education</th>\n",
       "      <th>the</th>\n",
       "      <th>aspects</th>\n",
       "      <th>I</th>\n",
       "      <th>early</th>\n",
       "      <th>Data</th>\n",
       "      <th>has</th>\n",
       "      <th>lot</th>\n",
       "      <th>mathematical</th>\n",
       "      <th>of</th>\n",
       "      <th>progressed</th>\n",
       "      <th>love</th>\n",
       "      <th>independence</th>\n",
       "      <th>during</th>\n",
       "    </tr>\n",
       "  </thead>\n",
       "  <tbody>\n",
       "    <tr>\n",
       "      <th>0</th>\n",
       "      <td>0.000000</td>\n",
       "      <td>0.000000</td>\n",
       "      <td>0.000000</td>\n",
       "      <td>0.524653</td>\n",
       "      <td>0.351366</td>\n",
       "      <td>0.000000</td>\n",
       "      <td>0.000000</td>\n",
       "      <td>0.000000</td>\n",
       "      <td>0.351366</td>\n",
       "      <td>0.000000</td>\n",
       "      <td>0.000000</td>\n",
       "      <td>0.000000</td>\n",
       "      <td>0.000000</td>\n",
       "      <td>0.000000</td>\n",
       "      <td>0.000000</td>\n",
       "      <td>0.000000</td>\n",
       "      <td>0.351366</td>\n",
       "      <td>0.000000</td>\n",
       "      <td>0.000000</td>\n",
       "    </tr>\n",
       "    <tr>\n",
       "      <th>1</th>\n",
       "      <td>0.000000</td>\n",
       "      <td>0.175683</td>\n",
       "      <td>0.000000</td>\n",
       "      <td>0.000000</td>\n",
       "      <td>0.000000</td>\n",
       "      <td>0.000000</td>\n",
       "      <td>0.262327</td>\n",
       "      <td>0.262327</td>\n",
       "      <td>0.175683</td>\n",
       "      <td>0.000000</td>\n",
       "      <td>0.262327</td>\n",
       "      <td>0.000000</td>\n",
       "      <td>0.000000</td>\n",
       "      <td>0.262327</td>\n",
       "      <td>0.262327</td>\n",
       "      <td>0.000000</td>\n",
       "      <td>0.175683</td>\n",
       "      <td>0.000000</td>\n",
       "      <td>0.000000</td>\n",
       "    </tr>\n",
       "    <tr>\n",
       "      <th>2</th>\n",
       "      <td>0.190783</td>\n",
       "      <td>0.127770</td>\n",
       "      <td>0.190783</td>\n",
       "      <td>0.000000</td>\n",
       "      <td>0.127770</td>\n",
       "      <td>0.190783</td>\n",
       "      <td>0.000000</td>\n",
       "      <td>0.000000</td>\n",
       "      <td>0.000000</td>\n",
       "      <td>0.190783</td>\n",
       "      <td>0.000000</td>\n",
       "      <td>0.190783</td>\n",
       "      <td>0.190783</td>\n",
       "      <td>0.000000</td>\n",
       "      <td>0.000000</td>\n",
       "      <td>0.190783</td>\n",
       "      <td>0.000000</td>\n",
       "      <td>0.190783</td>\n",
       "      <td>0.190783</td>\n",
       "    </tr>\n",
       "  </tbody>\n",
       "</table>\n",
       "</div>"
      ],
      "text/plain": [
       "          a   Science        in        my     India  education       the  \\\n",
       "0  0.000000  0.000000  0.000000  0.524653  0.351366   0.000000  0.000000   \n",
       "1  0.000000  0.175683  0.000000  0.000000  0.000000   0.000000  0.262327   \n",
       "2  0.190783  0.127770  0.190783  0.000000  0.127770   0.190783  0.000000   \n",
       "\n",
       "    aspects         I     early      Data       has       lot  mathematical  \\\n",
       "0  0.000000  0.351366  0.000000  0.000000  0.000000  0.000000      0.000000   \n",
       "1  0.262327  0.175683  0.000000  0.262327  0.000000  0.000000      0.262327   \n",
       "2  0.000000  0.000000  0.190783  0.000000  0.190783  0.190783      0.000000   \n",
       "\n",
       "         of  progressed      love  independence    during  \n",
       "0  0.000000    0.000000  0.351366      0.000000  0.000000  \n",
       "1  0.262327    0.000000  0.175683      0.000000  0.000000  \n",
       "2  0.000000    0.190783  0.000000      0.190783  0.190783  "
      ]
     },
     "execution_count": 118,
     "metadata": {},
     "output_type": "execute_result"
    }
   ],
   "source": [
    "pd.DataFrame([tfidfBowA, tfidfBowB, tfidfBowC])"
   ]
  },
  {
   "cell_type": "markdown",
   "metadata": {},
   "source": [
    "# Cosine Similarity"
   ]
  },
  {
   "cell_type": "code",
   "execution_count": 119,
   "metadata": {},
   "outputs": [
    {
     "name": "stdout",
     "output_type": "stream",
     "text": [
      "{'Data': 0.3333333333333333, 'Science': 0.3333333333333333, 'India': 0.3333333333333333}\n"
     ]
    }
   ],
   "source": [
    "keyword = \"Data Science India\"\n",
    "\n",
    "kws = keyword.split(\" \")\n",
    "kwordDict = dict.fromkeys(set(kws), 0)\n",
    "for word in kws:\n",
    "    kwordDict[word] += 1\n",
    "tfkws = computeTF(kwordDict, kws)\n",
    "\n",
    "idfKws = computeIDF([kwordDict])\n",
    "tfidfKws = computeTFIDF(tfkws, idfKws)\n",
    "print(tfidfKws)\n"
   ]
  },
  {
   "cell_type": "code",
   "execution_count": 120,
   "metadata": {},
   "outputs": [
    {
     "name": "stdout",
     "output_type": "stream",
     "text": [
      "0.5773502691896258\n",
      "0.8009760816565887\n",
      "0.8164965809277259\n"
     ]
    }
   ],
   "source": [
    "docs = [tfidfBowA, tfidfBowB, tfidfBowC]\n",
    "\n",
    "for doc in docs:\n",
    "    num = qden = docden = 0\n",
    "    for word in tfidfKws:\n",
    "        num += doc[word] * tfidfKws[word]\n",
    "        qden += tfidfKws[word] ** 2\n",
    "        docden += doc[word] ** 2\n",
    "    sim = num / (math.sqrt(qden) * math.sqrt(docden))\n",
    "    print(sim)\n"
   ]
  }
 ],
 "metadata": {
  "kernelspec": {
   "display_name": "Python 3.9.6 ('venv': venv)",
   "language": "python",
   "name": "python3"
  },
  "language_info": {
   "codemirror_mode": {
    "name": "ipython",
    "version": 3
   },
   "file_extension": ".py",
   "mimetype": "text/x-python",
   "name": "python",
   "nbconvert_exporter": "python",
   "pygments_lexer": "ipython3",
   "version": "3.9.6"
  },
  "orig_nbformat": 4,
  "vscode": {
   "interpreter": {
    "hash": "59c0d54295269212dacd944a2be0139f5619541711cd1c2d99809e4682da3f84"
   }
  }
 },
 "nbformat": 4,
 "nbformat_minor": 2
}
