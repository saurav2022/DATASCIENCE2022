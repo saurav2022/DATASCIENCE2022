{
 "cells": [
  {
   "cell_type": "markdown",
   "metadata": {},
   "source": [
    "Meta-Characters with special meaning that does not match automatically :  .^$*+?{}[]\\|()\n",
    "1. .  Matches a single character\n",
    "2. \\w Matches a single word character (a letter or digit or underscore [a-zA-Z0-9_])\n",
    "3. \\d Matches a single digit\n",
    "4. \\s Matches a single whitespace character (Space, newline, return tab, \\n\\r\\t\\f)\n",
    "5. ^ : Start of the string   $ : End of the string\n",
    "6. * : Zero or more number of occurences of the preceding character\n",
    "7. + : One or more number of occurences of the preceding character\n",
    "8. ? : Zero or one occurrence of the preceding character\n",
    "9. [abc] : Matches either a or b or c\n",
    "10. () : Group extraction\n",
    "11. [^abc] : Excluding the pattern within the square bracket"
   ]
  },
  {
   "cell_type": "code",
   "execution_count": 4,
   "metadata": {},
   "outputs": [
    {
     "name": "stdout",
     "output_type": "stream",
     "text": [
      "FOUND: word: c1a\n"
     ]
    }
   ],
   "source": [
    "import re \n",
    "\n",
    "str = \"an example word: c1a2t3e4rpillar!!\"\n",
    "match = re.search(r'word: \\w\\w\\w', str)\n",
    "\n",
    "if match:\n",
    "    print(f\"FOUND: {match.group()}\")\n",
    "else:\n",
    "    print(\"Did not found\")"
   ]
  },
  {
   "cell_type": "code",
   "execution_count": 5,
   "metadata": {},
   "outputs": [],
   "source": [
    "match = re.search(r'iii', 'piiig') # Found   Match group = \"iii\"\n",
    "match = re.search(r'igs', 'piiig') # Not Found   Match = None\n",
    "match = re.search(r'...g', 'piiig') # Found   Match group = \"iiig\"\n",
    "match = re.search(r'\\d\\d\\d', 'p123g') # Found   Match group = \"123\"\n",
    "match = re.search(r'\\w\\w\\w', '@@abcd!!')  # Found     Match group = abc"
   ]
  },
  {
   "cell_type": "markdown",
   "metadata": {},
   "source": [
    "# Leftmost & Largest"
   ]
  },
  {
   "cell_type": "code",
   "execution_count": 10,
   "metadata": {},
   "outputs": [
    {
     "data": {
      "text/plain": [
       "<re.Match object; span=(3, 6), match='bar'>"
      ]
     },
     "execution_count": 10,
     "metadata": {},
     "output_type": "execute_result"
    }
   ],
   "source": [
    "re.search(r'pi+', 'piiig') # Found  match.group()= \"piii\"\n",
    "re.search(r'i+', 'piigiii') # Found   match.group = \"ii\"\n",
    "re.search(r'\\d\\s*\\d\\s*\\d', 'xx1 2   3xx') # Found   match.group = \"1 2   3\"\n",
    "re.search(r'\\d\\s*\\d\\s*\\d', 'xx12   3xx') # Found     match.group = \"12 3\"\n",
    "re.search(r'\\d\\s*\\d\\s*\\d', 'xx123xx') # Found     match.group = \"123\"\n",
    "\n",
    "re.search(r'^b\\w+', 'foobar bali indonesia') # Not found  match = None\n",
    "re.search(r'b\\w+', 'foobar') # Found   match.group() = 'bar'\n"
   ]
  },
  {
   "cell_type": "markdown",
   "metadata": {},
   "source": [
    "## Emails"
   ]
  },
  {
   "cell_type": "code",
   "execution_count": 15,
   "metadata": {},
   "outputs": [
    {
     "name": "stdout",
     "output_type": "stream",
     "text": [
      "bob@google\n"
     ]
    }
   ],
   "source": [
    "str = 'purple alice.bob@google.com monkey refrigerator'\n",
    "match = re.search(r'\\w+@\\w+', str)\n",
    "if match:\n",
    "    print(match.group())"
   ]
  },
  {
   "cell_type": "markdown",
   "metadata": {},
   "source": [
    "## Square brackets"
   ]
  },
  {
   "cell_type": "code",
   "execution_count": 17,
   "metadata": {},
   "outputs": [
    {
     "name": "stdout",
     "output_type": "stream",
     "text": [
      "alice.bob@google.com\n"
     ]
    }
   ],
   "source": [
    "match = re.search(r'[\\w.-_]+@[\\w.-]+', str)\n",
    "if match:\n",
    "    print(match.group())"
   ]
  },
  {
   "cell_type": "code",
   "execution_count": 26,
   "metadata": {},
   "outputs": [
    {
     "name": "stdout",
     "output_type": "stream",
     "text": [
      "Agarwal\n",
      "Agrawal\n",
      "Agarwala\n",
      "Aggarwal\n",
      "Agrawala\n"
     ]
    }
   ],
   "source": [
    "str = \"\"\"Agarwal Agrawal\n",
    "Agarwala\n",
    "Aggarwal\n",
    "Agrawala\"\"\"\n",
    "match = re.findall(r'Agg?[ar]+wala?', str)\n",
    "for m in match:\n",
    "    print(m)"
   ]
  },
  {
   "cell_type": "markdown",
   "metadata": {},
   "source": [
    "## Group Extraction"
   ]
  },
  {
   "cell_type": "code",
   "execution_count": 25,
   "metadata": {},
   "outputs": [
    {
     "name": "stdout",
     "output_type": "stream",
     "text": [
      "alice.bob@google.com\n",
      "alice.bob\n",
      "google.com\n"
     ]
    }
   ],
   "source": [
    "str = 'purple alice.bob@google.com monkey refrigerator'\n",
    "match = re.search(r'([\\w\\.-_]+)@([\\w\\.-]+)', str)\n",
    "if match:\n",
    "    print(match.group())\n",
    "    print(match.group(1))\n",
    "    print(match.group(2))\n",
    "\n",
    "# ([\\w]+)[._]([\\w]+)@([\\w.]+)\n",
    "    "
   ]
  },
  {
   "cell_type": "markdown",
   "metadata": {},
   "source": [
    "## findall"
   ]
  },
  {
   "cell_type": "code",
   "execution_count": 24,
   "metadata": {},
   "outputs": [
    {
     "name": "stdout",
     "output_type": "stream",
     "text": [
      "alice.bob@google.com\n",
      "bob@ac.com\n"
     ]
    }
   ],
   "source": [
    "str = 'purple alice.bob@google.com monkey refrigerator bob@ac.com'\n",
    "emails = re.findall(r'[\\w\\.-_]+@[\\w\\.-]+', str)\n",
    "for email in emails:\n",
    "    print(email)"
   ]
  },
  {
   "cell_type": "code",
   "execution_count": 31,
   "metadata": {},
   "outputs": [
    {
     "name": "stdout",
     "output_type": "stream",
     "text": [
      "[('alice.bob', 'google.com'), ('bob', 'ac.com')]\n",
      "alice.bob google.com\n",
      "bob ac.com\n"
     ]
    }
   ],
   "source": [
    "str = 'purple alice.bob@google.com monkey refrigerator bob@ac.com'\n",
    "emails = re.findall(r'([\\w\\.-_]+)@([\\w\\.-]+)', str)\n",
    "print(emails)\n",
    "for email in emails:\n",
    "    user, host = email\n",
    "    print(user, host)"
   ]
  },
  {
   "cell_type": "markdown",
   "metadata": {},
   "source": [
    "## match"
   ]
  },
  {
   "cell_type": "code",
   "execution_count": 32,
   "metadata": {},
   "outputs": [
    {
     "name": "stdout",
     "output_type": "stream",
     "text": [
      "<re.Match object; span=(0, 5), match='abyss'>\n"
     ]
    }
   ],
   "source": [
    "pattern = \"^a...s$\"\n",
    "test_string = 'abyss'\n",
    "match = re.match(pattern, test_string)\n",
    "if match:\n",
    "    print(match)"
   ]
  },
  {
   "cell_type": "code",
   "execution_count": 42,
   "metadata": {},
   "outputs": [
    {
     "name": "stdout",
     "output_type": "stream",
     "text": [
      "<re.Match object; span=(1, 4), match='lex'>\n",
      "match: No match found\n",
      "['lex', 'lie']\n"
     ]
    }
   ],
   "source": [
    "str = \"Alex Bob Charlie Don\"\n",
    "match_s = re.search(\"l\\w\\w\", str)\n",
    "match_m = re.match(\"l\\w\\w\", str)\n",
    "match_fa = re.findall(\"l\\w\\w\", str)\n",
    "\n",
    "if match_s:\n",
    "    print(match_s)\n",
    "else:\n",
    "    print(\"search : No match found\")\n",
    "\n",
    "if match_m:\n",
    "    print(match_m)\n",
    "else:\n",
    "    print(\"match: No match found\")\n",
    "\n",
    "print(match_fa)"
   ]
  },
  {
   "cell_type": "markdown",
   "metadata": {},
   "source": [
    "## Split"
   ]
  },
  {
   "cell_type": "code",
   "execution_count": 43,
   "metadata": {},
   "outputs": [
    {
     "name": "stdout",
     "output_type": "stream",
     "text": [
      "['Twelve:', ' Eighty:', ' Ninety-nine:', '']\n"
     ]
    }
   ],
   "source": [
    "result = re.split(r'\\d+','Twelve:12 Eighty:80 Ninety-nine:99')\n",
    "print(result)"
   ]
  },
  {
   "cell_type": "code",
   "execution_count": 44,
   "metadata": {},
   "outputs": [
    {
     "name": "stdout",
     "output_type": "stream",
     "text": [
      "['Twelve:', ' Eighty:80 Ninety-nine:99']\n"
     ]
    }
   ],
   "source": [
    "result = re.split(r'\\d+','Twelve:12 Eighty:80 Ninety-nine:99', 1)\n",
    "print(result)"
   ]
  },
  {
   "cell_type": "markdown",
   "metadata": {},
   "source": [
    "## sub"
   ]
  },
  {
   "cell_type": "code",
   "execution_count": 46,
   "metadata": {},
   "outputs": [
    {
     "name": "stdout",
     "output_type": "stream",
     "text": [
      "abc 12    de 23 \n",
      " f45 6\n",
      "abc12de23f456\n"
     ]
    }
   ],
   "source": [
    "str = 'abc 12\\\n",
    "    de 23 \\n f45 6'\n",
    "print(str)    \n",
    "new_string = re.sub(r'\\s+', '', str)\n",
    "print(new_string)"
   ]
  },
  {
   "cell_type": "markdown",
   "metadata": {},
   "source": [
    "## Caret with square brackets: Exclude pattern"
   ]
  },
  {
   "cell_type": "code",
   "execution_count": 69,
   "metadata": {},
   "outputs": [
    {
     "data": {
      "text/plain": [
       "[' Charlie', ' Kalyani', ' Subir']"
      ]
     },
     "execution_count": 69,
     "metadata": {},
     "output_type": "execute_result"
    }
   ],
   "source": [
    "# Find all names that does not start with A or B -- To be Rectified.\n",
    "str = \" Alex Bob Charlie Amal Bimal Kalyani Subir\"\n",
    "re.findall(r\"\\s+[^AB][a-z]*\", str)"
   ]
  },
  {
   "cell_type": "markdown",
   "metadata": {},
   "source": [
    "Exercise : Detect Phone Numbers provided in the following formats\n",
    "xyz abc defg\n",
    "xyz-abc-defg\n",
    "xyzabcdefg\n",
    "(xyz) abc defg\n",
    "xyzab cdefg\n",
    "+pq xyz abc defg"
   ]
  }
 ],
 "metadata": {
  "kernelspec": {
   "display_name": "Python 3.8.9 ('venv': venv)",
   "language": "python",
   "name": "python3"
  },
  "language_info": {
   "codemirror_mode": {
    "name": "ipython",
    "version": 3
   },
   "file_extension": ".py",
   "mimetype": "text/x-python",
   "name": "python",
   "nbconvert_exporter": "python",
   "pygments_lexer": "ipython3",
   "version": "3.8.9"
  },
  "orig_nbformat": 4,
  "vscode": {
   "interpreter": {
    "hash": "59c0d54295269212dacd944a2be0139f5619541711cd1c2d99809e4682da3f84"
   }
  }
 },
 "nbformat": 4,
 "nbformat_minor": 2
}
