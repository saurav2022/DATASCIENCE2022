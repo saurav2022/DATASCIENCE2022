{
 "cells": [
  {
   "cell_type": "markdown",
   "metadata": {},
   "source": [
    "# Answer 1 - Create a Pipeline\n",
    "Write a simple Apache Beam pipeline that reads a list of integers [1, 2, 3, 4, 5], multiplies each integer by 2, and prints the results. The output should be [2, 4, 6, 8, 10].\n"
   ]
  },
  {
   "cell_type": "code",
   "execution_count": 4,
   "metadata": {},
   "outputs": [
    {
     "name": "stdout",
     "output_type": "stream",
     "text": [
      "2\n",
      "4\n",
      "6\n",
      "8\n",
      "10\n"
     ]
    }
   ],
   "source": [
    "import apache_beam as beam \n",
    "with beam.Pipeline() as pipeline:\n",
    "    my_pipeline = (\n",
    "        pipeline\n",
    "        | beam.Create([1,2,3,4,5])\n",
    "        | beam.Map(lambda x : x * 2)\n",
    "        | beam.Map(print)\n",
    "    )"
   ]
  },
  {
   "cell_type": "markdown",
   "metadata": {},
   "source": [
    "# Answer 2 - Filtering Elements\n",
    " Create a pipeline that filters out even numbers from a list of integers [1, 2, 3, 4, 5, 6, 7, 8, 9, 10] and prints only the odd numbers. The output should be [1, 3, 5, 7, 9]."
   ]
  },
  {
   "cell_type": "code",
   "execution_count": 5,
   "metadata": {},
   "outputs": [
    {
     "name": "stdout",
     "output_type": "stream",
     "text": [
      "1\n",
      "3\n",
      "5\n",
      "7\n",
      "9\n"
     ]
    }
   ],
   "source": [
    "import apache_beam as beam \n",
    "with beam.Pipeline() as pipeline:\n",
    "    my_pipeline = (\n",
    "        pipeline\n",
    "        | beam.Create([1, 2, 3, 4, 5, 6, 7, 8, 9, 10] )\n",
    "        | beam.Filter(lambda x : x%2)\n",
    "        | beam.Map(print)\n",
    "    )"
   ]
  },
  {
   "cell_type": "markdown",
   "metadata": {},
   "source": [
    "# Answer 3 - Mapping Strings to Uppercase\n",
    " Write a pipeline that converts a list of strings ['apple', 'banana', 'cherry'] to uppercase. The output should be ['APPLE', 'BANANA', 'CHERRY']."
   ]
  },
  {
   "cell_type": "code",
   "execution_count": 8,
   "metadata": {},
   "outputs": [
    {
     "name": "stdout",
     "output_type": "stream",
     "text": [
      "APPLE\n",
      "BANANA\n",
      "CHERRY\n"
     ]
    }
   ],
   "source": [
    "import apache_beam as beam \n",
    "with beam.Pipeline() as pipeline:\n",
    "    my_pipeline = (\n",
    "        pipeline\n",
    "        | beam.Create(['apple', 'banana', 'cherry'] )\n",
    "        | beam.Map(lambda x : x.upper())\n",
    "        | beam.Map(print)\n",
    "    )"
   ]
  },
  {
   "cell_type": "markdown",
   "metadata": {},
   "source": [
    "# Answer 4 - Counting Words\n",
    " Create a pipeline that reads a list of sentences ['hello world', 'hello Beam', 'Beam is fun'] and counts the occurrences of each word. The output should be {'hello': 2, 'world': 1, 'Beam': 2, 'is': 1, 'fun': 1}."
   ]
  },
  {
   "cell_type": "code",
   "execution_count": 22,
   "metadata": {},
   "outputs": [
    {
     "name": "stdout",
     "output_type": "stream",
     "text": [
      "('hello', 2)\n",
      "('world', 1)\n",
      "('Beam', 2)\n",
      "('is', 1)\n",
      "('fun', 1)\n"
     ]
    }
   ],
   "source": [
    "import apache_beam as beam \n",
    "with beam.Pipeline() as pipeline:\n",
    "    my_pipeline = (\n",
    "        pipeline\n",
    "        | beam.Create(['hello world', 'hello Beam', 'Beam is fun'] )\n",
    "        | beam.Map(lambda x : x.split(\" \"))\n",
    "        | beam.FlatMap(lambda x : x)\n",
    "        | beam.combiners.Count.PerElement()\n",
    "        | beam.Map(print)\n",
    "    )"
   ]
  },
  {
   "cell_type": "markdown",
   "metadata": {},
   "source": [
    "# Assignment 5 - Calculating Average\n",
    " Write a pipeline that calculates the average of a list of integers [10, 20, 30, 40, 50]. The output should be 30.\n"
   ]
  },
  {
   "cell_type": "code",
   "execution_count": 19,
   "metadata": {},
   "outputs": [
    {
     "name": "stdout",
     "output_type": "stream",
     "text": [
      "30.0\n"
     ]
    }
   ],
   "source": [
    "import apache_beam as beam\n",
    "\n",
    "with beam.Pipeline() as p:\n",
    "    my_pipeline = (\n",
    "        p\n",
    "        | beam.Create([10,20,30,40,50])\n",
    "        | beam.combiners.Mean.Globally()\n",
    "        | beam.Map(print)\n",
    "    )"
   ]
  },
  {
   "cell_type": "markdown",
   "metadata": {},
   "source": [
    "# Assignment 6 - Flattening Collections\n",
    " Create a pipeline that flattens a list of lists of integers [[1, 2, 3], [4, 5, 6], [7, 8, 9]] into a single list of integers. The output should be [1, 2, 3, 4, 5, 6, 7, 8, 9].\n"
   ]
  },
  {
   "cell_type": "code",
   "execution_count": 23,
   "metadata": {},
   "outputs": [
    {
     "name": "stdout",
     "output_type": "stream",
     "text": [
      "1\n",
      "2\n",
      "3\n",
      "4\n",
      "5\n",
      "6\n",
      "7\n",
      "8\n",
      "9\n"
     ]
    }
   ],
   "source": [
    "import apache_beam as beam \n",
    "\n",
    "with beam.Pipeline() as p:\n",
    "    ip = (\n",
    "        p\n",
    "        | beam.Create([[1, 2, 3], [4, 5, 6], [7, 8, 9]])\n",
    "        | beam.FlatMap(lambda x : x)\n",
    "        | beam.Map(print)\n",
    "    )"
   ]
  },
  {
   "cell_type": "markdown",
   "metadata": {},
   "source": [
    "# Assignment 7 - Group by Key\n",
    " Write a pipeline that groups a list of key-value pairs [('apple', 1), ('banana', 2), ('apple', 3), ('banana', 4)] by key and prints the grouped results. The output should be {'apple': [1, 3], 'banana': [2, 4]}.\n"
   ]
  },
  {
   "cell_type": "code",
   "execution_count": 25,
   "metadata": {},
   "outputs": [
    {
     "name": "stdout",
     "output_type": "stream",
     "text": [
      "('apple', [1, 3])\n",
      "('banana', [2, 4])\n"
     ]
    }
   ],
   "source": [
    "import apache_beam as beam \n",
    "\n",
    "with beam.Pipeline() as p:\n",
    "    ip = (\n",
    "        p\n",
    "        | beam.Create([('apple', 1), ('banana', 2), ('apple', 3), ('banana', 4)])\n",
    "        | beam.GroupByKey()\n",
    "        | beam.Map(print)\n",
    "    )"
   ]
  },
  {
   "cell_type": "markdown",
   "metadata": {},
   "source": [
    "# Assignment 8 - Combining Values by Key\n",
    " Create a pipeline that sums the values of each key in a list of key-value pairs [('apple', 1), ('banana', 2), ('apple', 3), ('banana', 4)]. The output should be {'apple': 4, 'banana': 6}."
   ]
  },
  {
   "cell_type": "code",
   "execution_count": 26,
   "metadata": {},
   "outputs": [
    {
     "name": "stdout",
     "output_type": "stream",
     "text": [
      "('apple', 4)\n",
      "('banana', 6)\n"
     ]
    }
   ],
   "source": [
    "import apache_beam as beam \n",
    "\n",
    "with beam.Pipeline() as p:\n",
    "    ip = (\n",
    "        p\n",
    "        | beam.Create([('apple', 1), ('banana', 2), ('apple', 3), ('banana', 4)])\n",
    "        | beam.CombinePerKey(sum)\n",
    "        | beam.Map(print)\n",
    "    )"
   ]
  },
  {
   "cell_type": "markdown",
   "metadata": {},
   "source": [
    "# Assignment 9 - Joining Collections\n",
    " Write a pipeline that performs an inner join on two collections of key-value pairs [(1, 'Alice'), (2, 'Bob')] and [(1, 'Engineer'), (2, 'Doctor')] by key. The output should be [(1, ('Alice', 'Engineer')), (2, ('Bob', 'Doctor'))].\n"
   ]
  },
  {
   "cell_type": "code",
   "execution_count": 41,
   "metadata": {},
   "outputs": [
    {
     "name": "stdout",
     "output_type": "stream",
     "text": [
      "(1, ('Alice', 'Engineer'))\n",
      "(2, ('Bob', 'Doctor'))\n"
     ]
    }
   ],
   "source": [
    "import apache_beam as beam\n",
    "def format_result(element):\n",
    "    key, groups = element\n",
    "    users_list = groups['users']\n",
    "    purchases_list = groups['purchases']\n",
    "    for user in users_list:\n",
    "        for purchase in purchases_list:\n",
    "            yield (key, (user, purchase))\n",
    "\n",
    "with beam.Pipeline() as p:\n",
    "    users = p | 'Users' >> beam.Create([(1, 'Alice'), (2, 'Bob')])\n",
    "    purchases = p | 'Purchases' >> beam.Create([(1, 'Engineer'), (2, 'Doctor')])\n",
    "\n",
    "    # Apply CoGroupByKey to group users and purchases by key\n",
    "    grouped = {'users': users, 'purchases': purchases} | beam.CoGroupByKey()\n",
    "#     (1, {'users': ['Alice'], 'purchases': ['Engineer']})\n",
    "#     (2, {'users': ['Bob'], 'purchases': ['Doctor']})\n",
    "\n",
    "    result = grouped | beam.FlatMap(format_result)\n",
    "\n",
    "    result | beam.Map(print)\n"
   ]
  },
  {
   "cell_type": "markdown",
   "metadata": {},
   "source": [
    "# Assignment 10 - ParDo Transformation\n",
    " Create a pipeline that uses the ParDo transformation to filter out numbers less than 5 and then multiply each remaining integer in a list of integers [1, 2, 3, 4, 5, 6, 7, 8, 9, 10] by 2. The output should be [10, 12, 14, 16, 18, 20].\n"
   ]
  },
  {
   "cell_type": "code",
   "execution_count": 45,
   "metadata": {},
   "outputs": [
    {
     "name": "stdout",
     "output_type": "stream",
     "text": [
      "25\n",
      "30\n",
      "35\n",
      "40\n",
      "45\n",
      "50\n"
     ]
    }
   ],
   "source": [
    "class MyFilterAndMultiplyParDo(beam.DoFn):\n",
    "    def process(self, element):\n",
    "        if(element >= 5):\n",
    "            yield element  * 2\n",
    "        \n",
    "\n",
    "with beam.Pipeline() as p:\n",
    "    ip = (\n",
    "        p \n",
    "        | beam.Create([1, 2, 3, 4, 5, 6, 7, 8, 9, 10])\n",
    "        | beam.ParDo(MyFilterAndMultiplyParDo())\n",
    "        | beam.Map(print)\n",
    "    )"
   ]
  },
  {
   "cell_type": "markdown",
   "metadata": {},
   "source": [
    "# Assignment 11 \n",
    "Reading from Text Files: Write a pipeline that reads lines from a text file containing:\n",
    "\n",
    "hello world\n",
    "hello Beam\n",
    "Beam is fun\n",
    "Splits each line into words, and counts the occurrences of each word. The output should be {'hello': 2, 'world': 1, 'Beam': 2, 'is': 1, 'fun': 1}.\n"
   ]
  },
  {
   "cell_type": "code",
   "execution_count": 49,
   "metadata": {},
   "outputs": [
    {
     "name": "stdout",
     "output_type": "stream",
     "text": [
      "('hello', 2)\n",
      "('world', 1)\n",
      "('Beam', 2)\n",
      "('is', 1)\n",
      "('fun', 1)\n"
     ]
    }
   ],
   "source": [
    "import apache_beam as beam\n",
    "\n",
    "with beam.Pipeline() as p:\n",
    "    ip = (\n",
    "        p \n",
    "        | beam.io.ReadFromText(\"file1.txt\")\n",
    "        | beam.FlatMap(lambda x: x.split(\" \"))\n",
    "        | beam.combiners.Count.PerElement()\n",
    "        | beam.Map(print)\n",
    "    )"
   ]
  },
  {
   "cell_type": "markdown",
   "metadata": {},
   "source": [
    "# Assignment 12 - Writing to Text Files\n",
    " Create a pipeline that reads a list of integers [1, 2, 3, 4, 5], multiplies each integer by 2, and writes the results to a text file. The content of the file should be:\n",
    "2\n",
    "4\n",
    "6\n",
    "8\n",
    "10\n"
   ]
  },
  {
   "cell_type": "code",
   "execution_count": 50,
   "metadata": {},
   "outputs": [],
   "source": [
    "import apache_beam as beam\n",
    "\n",
    "with beam.Pipeline() as p:\n",
    "    ip = (\n",
    "        p \n",
    "        | beam.Create([1,2,3,4,5])\n",
    "        | beam.Map(lambda x: x * 2)\n",
    "        | beam.io.WriteToText(\"result_12.txt\")\n",
    "    )"
   ]
  },
  {
   "cell_type": "markdown",
   "metadata": {},
   "source": [
    "# Assignment 13 - Using Side Inputs\n",
    " Write a pipeline that reads a list of integers [1, 2, 3, 4, 5] and uses a side input with the value 10 to add this constant value to each integer. The output should be [11, 12, 13, 14, 15]."
   ]
  },
  {
   "cell_type": "code",
   "execution_count": 55,
   "metadata": {},
   "outputs": [
    {
     "name": "stdout",
     "output_type": "stream",
     "text": [
      "11\n",
      "12\n",
      "13\n",
      "14\n",
      "15\n"
     ]
    }
   ],
   "source": [
    "def addConstNum(element, toAdd):\n",
    "    return element + toAdd\n",
    "\n",
    "with beam.Pipeline() as p:\n",
    "    ip = (\n",
    "        p\n",
    "        | beam.Create([1,2,3,4,5])\n",
    "        | beam.Map(addConstNum, 10)\n",
    "        | beam.Map(print)\n",
    "    )"
   ]
  },
  {
   "cell_type": "markdown",
   "metadata": {},
   "source": [
    "# Assignment 14 - Composite Transformations\n",
    " Create a composite transformation that reads a list of sentences ['Apache Beam is powerful', 'Beam makes data processing easy'], splits each sentence into words, and counts the occurrences of each word. The output should be {'Apache': 1, 'Beam': 2, 'is': 1, 'powerful': 1, 'makes': 1, 'data': 1, 'processing': 1, 'easy': 1}."
   ]
  },
  {
   "cell_type": "code",
   "execution_count": 58,
   "metadata": {},
   "outputs": [
    {
     "name": "stdout",
     "output_type": "stream",
     "text": [
      "('Apache', 1)\n",
      "('Beam', 2)\n",
      "('is', 1)\n",
      "('powerful', 1)\n",
      "('makes', 1)\n",
      "('data', 1)\n",
      "('processing', 1)\n",
      "('easy', 1)\n"
     ]
    }
   ],
   "source": [
    "with beam.Pipeline() as p : \n",
    "    ip = (\n",
    "        p \n",
    "        | beam.Create(['Apache Beam is powerful', 'Beam makes data processing easy'])\n",
    "        | beam.FlatMap(lambda x: x.split(\" \"))\n",
    "        | beam.combiners.Count.PerElement()\n",
    "        | beam.Map(print)\n",
    "    )"
   ]
  },
  {
   "cell_type": "code",
   "execution_count": 59,
   "metadata": {},
   "outputs": [
    {
     "name": "stdout",
     "output_type": "stream",
     "text": [
      "('Apache', 1)\n",
      "('Beam', 2)\n",
      "('is', 1)\n",
      "('powerful', 1)\n",
      "('makes', 1)\n",
      "('data', 1)\n",
      "('processing', 1)\n",
      "('easy', 1)\n"
     ]
    }
   ],
   "source": [
    "import apache_beam as beam\n",
    "from apache_beam import PTransform\n",
    "\n",
    "class CountWords(PTransform):\n",
    "    def expand(self, pcoll):\n",
    "        return (pcoll\n",
    "                | beam.FlatMap(lambda x: x.split())\n",
    "                | beam.combiners.Count.PerElement())\n",
    "\n",
    "with beam.Pipeline() as p:\n",
    "    (p\n",
    "     | beam.Create(['Apache Beam is powerful', 'Beam makes data processing easy'])\n",
    "     | CountWords()\n",
    "     | beam.Map(print))\n"
   ]
  },
  {
   "cell_type": "markdown",
   "metadata": {},
   "source": [
    "# Problem 15 - Data Enrichment\n",
    " Write a pipeline that reads a list of user data [(1, 'Alice'), (2, 'Bob')] and a list of purchase data [(1, 'Laptop'), (2, 'Smartphone')], and enriches the purchase data with user information. The output should be [(1, ('Alice', 'Laptop')), (2, ('Bob', 'Smartphone'))].\n"
   ]
  },
  {
   "cell_type": "code",
   "execution_count": 63,
   "metadata": {},
   "outputs": [
    {
     "name": "stdout",
     "output_type": "stream",
     "text": [
      "(1, ('Alice', 'Laptop'))\n",
      "(2, ('Bob', 'Smartphone'))\n"
     ]
    }
   ],
   "source": [
    "def format_nicely(element):\n",
    "    key, value = element\n",
    "    user = value[\"user\"]\n",
    "    purchase = value[\"purchase\"]\n",
    "    for u  in user:\n",
    "        for p in purchase:\n",
    "            yield(key, (u, p))\n",
    "\n",
    "with beam.Pipeline() as p : \n",
    "    user = p | \"Create users  Pcollection\" >> beam.Create([(1, 'Alice'), (2, 'Bob')])\n",
    "    purchase = p | \"Create Purchases Pcollection\" >> beam.Create([(1, 'Laptop'), (2, 'Smartphone')])\n",
    "    # (user, purchase)| beam.CoGroupByKey()|beam.Map(print)\n",
    "    grouped = {\"user\" : user , \"purchase\" : purchase} | beam.CoGroupByKey() \n",
    "    result = grouped | beam.FlatMap(format_nicely)\n",
    "    result | beam.Map(print)"
   ]
  },
  {
   "cell_type": "markdown",
   "metadata": {},
   "source": [
    "# Problem 16 - Handling Missing Values\n",
    " Create a pipeline that reads a list of key-value pairs [('a', 1), ('b', None), ('a', 2), ('c', 3), ('b', 4)], filters out pairs with missing values, and calculates the average value for each key. The output should be {'a': 1.5, 'c': 3.0, 'b': 4.0}.\n",
    "\n",
    "# Can not solve"
   ]
  },
  {
   "cell_type": "markdown",
   "metadata": {},
   "source": [
    "# Problem 17 - Processing Unbounded Data\n",
    " Write a pipeline that reads an unbounded data source (e.g., a streaming service that emits numbers) and processes the data in real-time, filtering out numbers less than 10 and printing the results.\n",
    "\n",
    "# On GCP"
   ]
  },
  {
   "cell_type": "markdown",
   "metadata": {},
   "source": [
    "# problem 18 Combining with Custom Logic\n",
    " Create a pipeline that uses a custom combine function to calculate the median of a list of integers [1, 3, 3, 6, 7, 8, 9]. The output should be 6.\n"
   ]
  },
  {
   "cell_type": "code",
   "execution_count": 110,
   "metadata": {},
   "outputs": [
    {
     "name": "stdout",
     "output_type": "stream",
     "text": [
      "6\n"
     ]
    }
   ],
   "source": [
    "import apache_beam as beam\n",
    "\n",
    "class MedianFn(beam.CombineFn):\n",
    "    def create_accumulator(self):\n",
    "        return []\n",
    "\n",
    "    def add_input(self, accumulator, input):\n",
    "        accumulator.append(input)\n",
    "        return accumulator\n",
    "\n",
    "    def merge_accumulators(self, accumulators):\n",
    "        result = []\n",
    "        for acc in accumulators:\n",
    "            result.extend(acc)\n",
    "        return result\n",
    "\n",
    "    def extract_output(self, accumulator):\n",
    "        accumulator.sort()\n",
    "        mid = len(accumulator) // 2\n",
    "        return accumulator[mid]\n",
    "\n",
    "with beam.Pipeline() as p:\n",
    "    (p\n",
    "     | beam.Create([1, 3, 3, 6, 7, 8, 9])\n",
    "     | beam.CombineGlobally(MedianFn())\n",
    "     | beam.Map(print))\n"
   ]
  },
  {
   "cell_type": "markdown",
   "metadata": {},
   "source": [
    "# Answer 19 - Error Handling \n",
    "Write a pipeline that reads a list of integers [1, 'two', 3, 'four', 5], includes error handling for transformation errors (e.g., converting to integers), logs errors, and continues processing valid integers. The output should log errors for 'two' and 'four' and print [1, 3, 5].\n"
   ]
  },
  {
   "cell_type": "code",
   "execution_count": 112,
   "metadata": {},
   "outputs": [
    {
     "name": "stderr",
     "output_type": "stream",
     "text": [
      "ERROR:root:Failed to convert two to integer.\n",
      "ERROR:root:Failed to convert four to integer.\n"
     ]
    },
    {
     "name": "stdout",
     "output_type": "stream",
     "text": [
      "1\n",
      "3\n",
      "5\n"
     ]
    }
   ],
   "source": [
    "import apache_beam as beam\n",
    "import logging\n",
    "\n",
    "class ConvertToInt(beam.DoFn):\n",
    "    def process(self, element):\n",
    "        try:\n",
    "            # Attempt to convert the element to an integer\n",
    "            yield int(element)\n",
    "        except ValueError:\n",
    "            # Log an error if conversion fails\n",
    "            logging.error(f\"Failed to convert {element} to integer.\")\n",
    "\n",
    "class LogAndFilter(beam.DoFn):\n",
    "    def process(self, element):\n",
    "        # Simply yield the element for further processing\n",
    "        yield element\n",
    "\n",
    "def run_pipeline():\n",
    "    # Set up logging configuration\n",
    "    logging.basicConfig(level=logging.ERROR)\n",
    "\n",
    "    with beam.Pipeline() as p:\n",
    "        (p\n",
    "         | 'Create Input' >> beam.Create([1, 'two', 3, 'four', 5])\n",
    "         | 'Convert to Int' >> beam.ParDo(ConvertToInt())\n",
    "         | 'Log and Filter' >> beam.ParDo(LogAndFilter())\n",
    "         | 'Print Results' >> beam.Map(print))\n",
    "\n",
    "if __name__ == '__main__':\n",
    "    run_pipeline()\n"
   ]
  },
  {
   "cell_type": "markdown",
   "metadata": {},
   "source": [
    "# Problem 20 Chaining Transformations\n",
    " Create a complex pipeline that reads a list of user actions [(1, 'login'), (2, 'purchase'), (1, 'logout'), (2, 'login'), (3, 'login')], filters out invalid actions (e.g., 'logout'), maps each action to a user, groups actions by user, and calculates the total number of actions per user. The output should be [(1, 2), (2, 2), (3, 1)]."
   ]
  },
  {
   "cell_type": "code",
   "execution_count": 118,
   "metadata": {},
   "outputs": [
    {
     "name": "stdout",
     "output_type": "stream",
     "text": [
      "(1, 1)\n",
      "(2, 2)\n",
      "(3, 1)\n"
     ]
    }
   ],
   "source": [
    "import apache_beam as beam\n",
    "\n",
    "class FilterInvalidActions(beam.DoFn):\n",
    "    def process(self, element):\n",
    "        user_id, action = element\n",
    "        # Filter out invalid actions (e.g., 'logout')\n",
    "        if action in ['login', 'purchase']:\n",
    "            yield (user_id, action)\n",
    "\n",
    "class CountActions(beam.DoFn):\n",
    "    def process(self, element):\n",
    "        user_id, actions = element\n",
    "        # Count the number of actions for each user\n",
    "        yield (user_id, len(actions))\n",
    "\n",
    "def run_pipeline():\n",
    "    with beam.Pipeline() as p:\n",
    "        (p\n",
    "         | 'Create Input' >> beam.Create([(1, 'login'), (2, 'purchase'), (1, 'logout'), (2, 'login'), (3, 'login')])\n",
    "         | 'Filter Invalid Actions' >> beam.ParDo(FilterInvalidActions())\n",
    "         | 'Group By User' >> beam.GroupByKey()\n",
    "         | 'Count Actions' >> beam.ParDo(CountActions())\n",
    "         | 'Print Results' >> beam.Map(print))\n",
    "\n",
    "if __name__ == '__main__':\n",
    "    run_pipeline()\n"
   ]
  }
 ],
 "metadata": {
  "kernelspec": {
   "display_name": "venv",
   "language": "python",
   "name": "python3"
  },
  "language_info": {
   "codemirror_mode": {
    "name": "ipython",
    "version": 3
   },
   "file_extension": ".py",
   "mimetype": "text/x-python",
   "name": "python",
   "nbconvert_exporter": "python",
   "pygments_lexer": "ipython3",
   "version": "3.11.9"
  }
 },
 "nbformat": 4,
 "nbformat_minor": 2
}
