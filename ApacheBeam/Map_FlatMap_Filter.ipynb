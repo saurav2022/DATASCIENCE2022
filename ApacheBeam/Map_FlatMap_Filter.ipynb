{
 "cells": [
  {
   "cell_type": "code",
   "execution_count": 3,
   "metadata": {},
   "outputs": [
    {
     "name": "stdout",
     "output_type": "stream",
     "text": [
      "Apple\n",
      "Mango\n",
      "Dates\n",
      "Grapes\n",
      "Papaya\n",
      "Strawberry\n"
     ]
    }
   ],
   "source": [
    "import apache_beam as beam \n",
    "\n",
    "with beam.Pipeline() as pipeline:\n",
    "    outputs = (\n",
    "        pipeline\n",
    "        | beam.Create([\n",
    "            '  Apple  \\n', \n",
    "            '\\tMango   \\n', \n",
    "            '     Dates  \\n', \n",
    "            '\\tGrapes     ', \n",
    "            '\\n Papaya \\t', \n",
    "            '\\t   Strawberry   \\n'])\n",
    "        | beam.Map(lambda fruit:fruit.strip())\n",
    "        | beam.Map(print)\n",
    "    )"
   ]
  },
  {
   "cell_type": "code",
   "execution_count": 4,
   "metadata": {},
   "outputs": [
    {
     "name": "stdout",
     "output_type": "stream",
     "text": [
      "Apple\n",
      "Mango\n",
      "Dates\n",
      "Grapes\n",
      "Papaya\n",
      "Strawberry\n"
     ]
    }
   ],
   "source": [
    "def strip_extra_chars(element):\n",
    "    return element.strip()\n",
    "\n",
    "with beam.Pipeline() as pipeline:\n",
    "    outputs = (\n",
    "        pipeline\n",
    "        | beam.Create([\n",
    "            '  Apple  \\n', \n",
    "            '\\tMango   \\n', \n",
    "            '     Dates  \\n', \n",
    "            '\\tGrapes     ', \n",
    "            '\\n Papaya \\t', \n",
    "            '\\t   Strawberry   \\n'])\n",
    "        | beam.Map(strip_extra_chars)\n",
    "        | beam.Map(print)\n",
    "    )"
   ]
  },
  {
   "cell_type": "code",
   "execution_count": 10,
   "metadata": {},
   "outputs": [
    {
     "name": "stdout",
     "output_type": "stream",
     "text": [
      "APPLE\n",
      "MANGO\n",
      "DATES\n",
      "GRAPES\n",
      "PAPAYA\n",
      "STRAWBERRY\n"
     ]
    }
   ],
   "source": [
    "def strip_extra_chars(element, chars=None):\n",
    "    tr1 = element.strip(chars)\n",
    "    tr2 = tr1.title()\n",
    "    tr3 = tr2.upper()\n",
    "    return tr3\n",
    "\n",
    "with beam.Pipeline() as pipeline:\n",
    "    outputs = (\n",
    "        pipeline\n",
    "        | beam.Create([\n",
    "            '  Apple.  \\n', \n",
    "            '\\tMango   \\n', \n",
    "            '     Dates.  \\n', \n",
    "            '\\tgrapes.     ', \n",
    "            '\\n Papaya \\t', \n",
    "            '\\t   Strawberry   \\n'])\n",
    "        | beam.Map(strip_extra_chars, chars='\\t\\n .')\n",
    "        | beam.Map(print)\n",
    "    )"
   ]
  },
  {
   "cell_type": "code",
   "execution_count": 17,
   "metadata": {},
   "outputs": [
    {
     "name": "stdout",
     "output_type": "stream",
     "text": [
      "WB --> Kolkata\n",
      "Maharshtra --> Mumbai\n",
      "Karnataka --> Bangalore\n",
      "Tamilnadu --> Chennai\n"
     ]
    }
   ],
   "source": [
    "# If our PCollection consists of (key, value) pairs, we can use MapTuple to unpack them into different function arguments\n",
    "\n",
    "with beam.Pipeline() as pipeline:\n",
    "    outputs = (\n",
    "        pipeline\n",
    "        | beam.Create([\n",
    "            ('WB', 'Kolkata'),\n",
    "            ('Maharshtra', 'Mumbai'),\n",
    "            ('Karnataka', 'Bangalore'),\n",
    "            ('Tamilnadu', 'Chennai')\n",
    "            ])\n",
    "        | beam.MapTuple(lambda state, cap: f'{state} --> {cap}')\n",
    "        | beam.Map(print)\n",
    "    )"
   ]
  },
  {
   "cell_type": "code",
   "execution_count": 22,
   "metadata": {},
   "outputs": [
    {
     "name": "stdout",
     "output_type": "stream",
     "text": [
      "WB --> Kolkata\n",
      "Maharshtra --> Mumbai\n",
      "Karnataka --> Bangalore\n",
      "Tamilnadu --> Chennai\n"
     ]
    }
   ],
   "source": [
    "def split_tuple(element):\n",
    "    state, cap = element \n",
    "    # return {'state' : state, 'capital' : cap}\n",
    "    return state + \" --> \" + cap\n",
    "\n",
    "with beam.Pipeline() as pipeline:\n",
    "    outputs = (\n",
    "        pipeline\n",
    "        | beam.Create([\n",
    "            ('WB', 'Kolkata'),\n",
    "            ('Maharshtra', 'Mumbai'),\n",
    "            ('Karnataka', 'Bangalore'),\n",
    "            ('Tamilnadu', 'Chennai')\n",
    "            ])\n",
    "        | beam.Map(split_tuple)\n",
    "        # | beam.Map(lambda x: x['state'] + ' --> ' + x['capital'])\n",
    "        | beam.Map(print)\n",
    "    )"
   ]
  },
  {
   "cell_type": "markdown",
   "metadata": {},
   "source": [
    "# FlatMap"
   ]
  },
  {
   "cell_type": "code",
   "execution_count": 26,
   "metadata": {},
   "outputs": [
    {
     "name": "stdout",
     "output_type": "stream",
     "text": [
      "Apple\n",
      "Mango\n",
      "Dates\n",
      "Grapes\n",
      "Papaya\n",
      "Strawberry\n"
     ]
    }
   ],
   "source": [
    "with beam.Pipeline() as pipeline:\n",
    "    outputs = (\n",
    "        pipeline\n",
    "        | beam.Create([\n",
    "            '  Apple  \\n', \n",
    "            '\\tMango   \\n', \n",
    "            '     Dates  \\n', \n",
    "            '\\tGrapes     ', \n",
    "            '\\n Papaya \\t', \n",
    "            '\\t   Strawberry   \\n'])\n",
    "        | beam.FlatMap(str.split)\n",
    "        | beam.Map(print)\n",
    "    )"
   ]
  },
  {
   "cell_type": "code",
   "execution_count": 33,
   "metadata": {},
   "outputs": [
    {
     "name": "stdout",
     "output_type": "stream",
     "text": [
      "['Lotus', ' Lily ', ' Daisy', ' Hibiscus', ' Marigold']\n",
      "['Fragaria', ' Wild Rose', ' Rhododendron', ' Primula']\n"
     ]
    }
   ],
   "source": [
    "with beam.Pipeline() as pipeline:\n",
    "    flowers = (\n",
    "        pipeline\n",
    "        | beam.Create(['Lotus, Lily , Daisy, Hibiscus, Marigold', 'Fragaria, Wild Rose, Rhododendron, Primula'])\n",
    "        | beam.Map(lambda x : x.split(','))\n",
    "        | beam.Map(print)\n",
    "    )"
   ]
  },
  {
   "cell_type": "code",
   "execution_count": 39,
   "metadata": {},
   "outputs": [
    {
     "name": "stdout",
     "output_type": "stream",
     "text": [
      "Lotus\n",
      "Lily\n",
      "Daisy\n",
      "Hibiscus\n",
      "Marigold\n",
      "Fragaria\n",
      "WildRose\n",
      "Rhododendron\n",
      "Primula\n"
     ]
    }
   ],
   "source": [
    "with beam.Pipeline() as pipeline:\n",
    "    flowers = (\n",
    "        pipeline\n",
    "        | beam.Create(['Lotus, Lily , Daisy, Hibiscus, Marigold', 'Fragaria, Wild Rose, Rhododendron, Primula'])\n",
    "        | beam.Map(lambda x : x.replace(\" \", \"\"))\n",
    "        | beam.FlatMap(lambda x : x.split(','))\n",
    "        | beam.Map(print)\n",
    "    )"
   ]
  },
  {
   "cell_type": "code",
   "execution_count": 41,
   "metadata": {},
   "outputs": [
    {
     "name": "stdout",
     "output_type": "stream",
     "text": [
      "['Lotus', 'Lily', 'Daisy', 'Hibiscus', 'Marigold']\n",
      "['Fragaria', 'Wild Rose', 'Rhododendron', 'Primula']\n"
     ]
    }
   ],
   "source": [
    "with beam.Pipeline() as pipeline:\n",
    "    flowers = (\n",
    "        pipeline\n",
    "        | beam.Create([\n",
    "            ['Lotus', 'Lily' , 'Daisy', 'Hibiscus', 'Marigold'], \n",
    "            ['Fragaria', 'Wild Rose', 'Rhododendron', 'Primula']\n",
    "            ])\n",
    "        | beam.Map(lambda x : x)\n",
    "        | beam.Map(print)\n",
    "    )"
   ]
  },
  {
   "cell_type": "code",
   "execution_count": 42,
   "metadata": {},
   "outputs": [
    {
     "name": "stdout",
     "output_type": "stream",
     "text": [
      "Lotus\n",
      "Lily\n",
      "Daisy\n",
      "Hibiscus\n",
      "Marigold\n",
      "Fragaria\n",
      "Wild Rose\n",
      "Rhododendron\n",
      "Primula\n"
     ]
    }
   ],
   "source": [
    "with beam.Pipeline() as pipeline:\n",
    "    flowers = (\n",
    "        pipeline\n",
    "        | beam.Create([\n",
    "            ['Lotus', 'Lily' , 'Daisy', 'Hibiscus', 'Marigold'], \n",
    "            ['Fragaria', 'Wild Rose', 'Rhododendron', 'Primula']\n",
    "            ])\n",
    "        | beam.FlatMap(lambda x : x)\n",
    "        | beam.Map(print)\n",
    "    )"
   ]
  },
  {
   "cell_type": "markdown",
   "metadata": {},
   "source": [
    "# Filter"
   ]
  },
  {
   "cell_type": "code",
   "execution_count": 44,
   "metadata": {},
   "outputs": [
    {
     "name": "stdout",
     "output_type": "stream",
     "text": [
      "{'name': 'India', 'continent': 'Asia', 'capital': 'New Delhi'}\n"
     ]
    }
   ],
   "source": [
    "with beam.Pipeline() as pipeline:\n",
    "    ip = (\n",
    "        pipeline\n",
    "        | beam.Create([\n",
    "            {'name' : 'Belgium', 'continent' : 'Europe', 'capital' : 'Brussels'},\n",
    "            {'name' : 'India', 'continent' : 'Asia', 'capital' : 'New Delhi'},\n",
    "            {'name' : 'New Zealand', 'continent' : 'Oceania', 'capital' : 'Auckland'},\n",
    "            {'name' : 'USA', 'continent' : 'NA', 'capital' : 'Washington DC'},\n",
    "        ])\n",
    "        | beam.Filter(lambda x: x['continent'] == 'Asia')\n",
    "        | beam.Map(print)\n",
    "    )"
   ]
  },
  {
   "cell_type": "markdown",
   "metadata": {},
   "source": []
  },
  {
   "cell_type": "code",
   "execution_count": 47,
   "metadata": {},
   "outputs": [
    {
     "data": {
      "text/plain": [
       "'v2'"
      ]
     },
     "execution_count": 47,
     "metadata": {},
     "output_type": "execute_result"
    }
   ],
   "source": [
    "x = ['a', 'p', 'c', 'o', 'l', 'y', 't', 'e']\n",
    "x[1], x[6]\n",
    "\n",
    "y = {'k1': 'v1', 'k2': 'v2'}\n",
    "y['k2']"
   ]
  }
 ],
 "metadata": {
  "kernelspec": {
   "display_name": "venv",
   "language": "python",
   "name": "python3"
  },
  "language_info": {
   "codemirror_mode": {
    "name": "ipython",
    "version": 3
   },
   "file_extension": ".py",
   "mimetype": "text/x-python",
   "name": "python",
   "nbconvert_exporter": "python",
   "pygments_lexer": "ipython3",
   "version": "3.11.4"
  }
 },
 "nbformat": 4,
 "nbformat_minor": 2
}
