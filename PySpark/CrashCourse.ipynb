{
 "cells": [
  {
   "cell_type": "code",
   "execution_count": 2,
   "metadata": {},
   "outputs": [],
   "source": [
    "from pyspark.sql import SparkSession"
   ]
  },
  {
   "cell_type": "code",
   "execution_count": 3,
   "metadata": {},
   "outputs": [
    {
     "name": "stderr",
     "output_type": "stream",
     "text": [
      "23/11/08 23:26:24 WARN Utils: Your hostname, SAURAVs-MacBook-Air.local resolves to a loopback address: 127.0.0.1; using 192.168.29.194 instead (on interface en0)\n",
      "23/11/08 23:26:24 WARN Utils: Set SPARK_LOCAL_IP if you need to bind to another address\n",
      "Setting default log level to \"WARN\".\n",
      "To adjust logging level use sc.setLogLevel(newLevel). For SparkR, use setLogLevel(newLevel).\n",
      "23/11/08 23:26:24 WARN NativeCodeLoader: Unable to load native-hadoop library for your platform... using builtin-java classes where applicable\n"
     ]
    }
   ],
   "source": [
    "spark = SparkSession.builder.appName(\"data_analysis\").getOrCreate()"
   ]
  },
  {
   "cell_type": "code",
   "execution_count": 10,
   "metadata": {},
   "outputs": [
    {
     "name": "stdout",
     "output_type": "stream",
     "text": [
      "root\n",
      " |-- sepal.length: double (nullable = true)\n",
      " |-- sepal.width: double (nullable = true)\n",
      " |-- petal.length: double (nullable = true)\n",
      " |-- petal.width: double (nullable = true)\n",
      " |-- variety: string (nullable = true)\n",
      "\n"
     ]
    }
   ],
   "source": [
    "from pyspark.sql.types import StringType, DoubleType, IntegerType, StructField, StructType\n",
    "iris_schema = StructType(\n",
    "\t\t[\n",
    "\t\t\tStructField(\"sepal.length\", DoubleType()),\n",
    "\t\t\tStructField(\"sepal.width\", DoubleType()),\n",
    "\t\t\tStructField(\"petal.length\", DoubleType()),\n",
    "\t\t\tStructField(\"petal.width\", DoubleType()),\n",
    "\t\t\tStructField(\"variety\", StringType()),\n",
    "\t\t]\n",
    "\t)\n",
    "# iris = spark.read.csv('/Users/sauravbhattacharyya/Desktop/iris.csv', header=True, inferSchema=True )\n",
    "iris = spark.read.csv('/Users/sauravbhattacharyya/Desktop/iris.csv', header=True, schema = iris_schema)\n",
    "iris.printSchema()"
   ]
  },
  {
   "cell_type": "code",
   "execution_count": 7,
   "metadata": {},
   "outputs": [
    {
     "name": "stdout",
     "output_type": "stream",
     "text": [
      "-RECORD 0--------------\n",
      " sepal.length | 5.1    \n",
      " sepal.width  | 3.5    \n",
      " petal.length | 1.4    \n",
      " petal.width  | 0.2    \n",
      " variety      | Setosa \n",
      "-RECORD 1--------------\n",
      " sepal.length | 4.9    \n",
      " sepal.width  | 3.0    \n",
      " petal.length | 1.4    \n",
      " petal.width  | 0.2    \n",
      " variety      | Setosa \n",
      "-RECORD 2--------------\n",
      " sepal.length | 4.7    \n",
      " sepal.width  | 3.2    \n",
      " petal.length | 1.3    \n",
      " petal.width  | 0.2    \n",
      " variety      | Setosa \n",
      "-RECORD 3--------------\n",
      " sepal.length | 4.6    \n",
      " sepal.width  | 3.1    \n",
      " petal.length | 1.5    \n",
      " petal.width  | 0.2    \n",
      " variety      | Setosa \n",
      "-RECORD 4--------------\n",
      " sepal.length | 5.0    \n",
      " sepal.width  | 3.6    \n",
      " petal.length | 1.4    \n",
      " petal.width  | 0.2    \n",
      " variety      | Setosa \n",
      "only showing top 5 rows\n",
      "\n"
     ]
    }
   ],
   "source": [
    "iris.show(5, truncate=False, vertical=True)"
   ]
  },
  {
   "cell_type": "code",
   "execution_count": 12,
   "metadata": {},
   "outputs": [
    {
     "name": "stdout",
     "output_type": "stream",
     "text": [
      "150\n",
      "5\n"
     ]
    }
   ],
   "source": [
    "print(iris.count())\n",
    "print(len(iris.columns))"
   ]
  },
  {
   "cell_type": "code",
   "execution_count": 24,
   "metadata": {},
   "outputs": [
    {
     "name": "stdout",
     "output_type": "stream",
     "text": [
      "root\n",
      " |-- sepal_length: double (nullable = true)\n",
      " |-- sepal_width: double (nullable = true)\n",
      " |-- petal_length: double (nullable = true)\n",
      " |-- petal_width: double (nullable = true)\n",
      " |-- variety: string (nullable = true)\n",
      "\n"
     ]
    }
   ],
   "source": [
    "iris = iris.withColumnRenamed('sepal.length', 'sepal_length')\n",
    "iris = iris.withColumnRenamed('sepal.width', 'sepal_width')\n",
    "iris = iris.withColumnRenamed('petal.length', 'petal_length')\n",
    "iris = iris.withColumnRenamed('petal.width', 'petal_width')\n",
    "\n",
    "iris.printSchema()"
   ]
  },
  {
   "cell_type": "code",
   "execution_count": 17,
   "metadata": {},
   "outputs": [],
   "source": [
    "iris = iris.withColumn('sepal_length', iris['sepal_length'].cast(DoubleType()))"
   ]
  },
  {
   "cell_type": "code",
   "execution_count": 19,
   "metadata": {},
   "outputs": [
    {
     "name": "stdout",
     "output_type": "stream",
     "text": [
      "+------------+-----------+------------+-----------+-------+\n",
      "|sepal_length|sepal.width|petal.length|petal.width|variety|\n",
      "+------------+-----------+------------+-----------+-------+\n",
      "|         5.1|        3.5|         1.4|        0.2| Setosa|\n",
      "|         4.9|        3.0|         1.4|        0.2| Setosa|\n",
      "|         4.7|        3.2|         1.3|        0.2| Setosa|\n",
      "+------------+-----------+------------+-----------+-------+\n",
      "only showing top 3 rows\n",
      "\n"
     ]
    }
   ],
   "source": [
    "iris.show(3)"
   ]
  },
  {
   "cell_type": "code",
   "execution_count": 25,
   "metadata": {},
   "outputs": [
    {
     "name": "stdout",
     "output_type": "stream",
     "text": [
      "+------------+-----------+\n",
      "|sepal_length|sepal_width|\n",
      "+------------+-----------+\n",
      "|         5.1|        3.5|\n",
      "|         4.9|        3.0|\n",
      "|         4.7|        3.2|\n",
      "+------------+-----------+\n",
      "only showing top 3 rows\n",
      "\n"
     ]
    }
   ],
   "source": [
    "iris.select(['sepal_length', 'sepal_width']).show(3)"
   ]
  },
  {
   "cell_type": "code",
   "execution_count": 26,
   "metadata": {},
   "outputs": [
    {
     "name": "stdout",
     "output_type": "stream",
     "text": [
      "+-----------------+\n",
      "|max(sepal_length)|\n",
      "+-----------------+\n",
      "|              7.9|\n",
      "+-----------------+\n",
      "\n"
     ]
    }
   ],
   "source": [
    "iris.agg({'sepal_length' : 'max'}).show()"
   ]
  },
  {
   "cell_type": "code",
   "execution_count": 27,
   "metadata": {},
   "outputs": [
    {
     "name": "stdout",
     "output_type": "stream",
     "text": [
      "+----------+-----------------+\n",
      "|   variety|max(sepal_length)|\n",
      "+----------+-----------------+\n",
      "| Virginica|              7.9|\n",
      "|    Setosa|              5.8|\n",
      "|Versicolor|              7.0|\n",
      "+----------+-----------------+\n",
      "\n"
     ]
    }
   ],
   "source": [
    "iris.groupBy('variety').agg({'sepal_length' : 'max'}).show()"
   ]
  },
  {
   "cell_type": "code",
   "execution_count": 29,
   "metadata": {},
   "outputs": [
    {
     "name": "stdout",
     "output_type": "stream",
     "text": [
      "+------------+-----------+------------+-----------+-------+\n",
      "|sepal_length|sepal_width|petal_length|petal_width|variety|\n",
      "+------------+-----------+------------+-----------+-------+\n",
      "|         4.3|        3.0|         1.1|        0.1| Setosa|\n",
      "|         4.4|        3.2|         1.3|        0.2| Setosa|\n",
      "|         4.4|        3.0|         1.3|        0.2| Setosa|\n",
      "|         4.4|        2.9|         1.4|        0.2| Setosa|\n",
      "|         4.5|        2.3|         1.3|        0.3| Setosa|\n",
      "|         4.6|        3.6|         1.0|        0.2| Setosa|\n",
      "|         4.6|        3.4|         1.4|        0.3| Setosa|\n",
      "|         4.6|        3.2|         1.4|        0.2| Setosa|\n",
      "|         4.6|        3.1|         1.5|        0.2| Setosa|\n",
      "|         4.7|        3.2|         1.3|        0.2| Setosa|\n",
      "|         4.7|        3.2|         1.6|        0.2| Setosa|\n",
      "|         4.8|        3.4|         1.9|        0.2| Setosa|\n",
      "|         4.8|        3.4|         1.6|        0.2| Setosa|\n",
      "|         4.8|        3.1|         1.6|        0.2| Setosa|\n",
      "|         4.8|        3.0|         1.4|        0.1| Setosa|\n",
      "|         4.8|        3.0|         1.4|        0.3| Setosa|\n",
      "|         4.9|        3.6|         1.4|        0.1| Setosa|\n",
      "|         4.9|        3.1|         1.5|        0.1| Setosa|\n",
      "|         4.9|        3.1|         1.5|        0.2| Setosa|\n",
      "|         4.9|        3.0|         1.4|        0.2| Setosa|\n",
      "+------------+-----------+------------+-----------+-------+\n",
      "only showing top 20 rows\n",
      "\n"
     ]
    }
   ],
   "source": [
    "iris.sort('sepal_length', 'sepal_width', ascending = [True, False]).show(20)"
   ]
  }
 ],
 "metadata": {
  "kernelspec": {
   "display_name": "dlvenv",
   "language": "python",
   "name": "python3"
  },
  "language_info": {
   "codemirror_mode": {
    "name": "ipython",
    "version": 3
   },
   "file_extension": ".py",
   "mimetype": "text/x-python",
   "name": "python",
   "nbconvert_exporter": "python",
   "pygments_lexer": "ipython3",
   "version": "3.10.12"
  }
 },
 "nbformat": 4,
 "nbformat_minor": 2
}
