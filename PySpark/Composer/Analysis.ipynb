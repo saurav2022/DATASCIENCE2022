{
 "cells": [
  {
   "cell_type": "code",
   "execution_count": 1,
   "metadata": {},
   "outputs": [
    {
     "name": "stderr",
     "output_type": "stream",
     "text": [
      "23/10/11 00:24:07 WARN Utils: Your hostname, SAURAVs-MacBook-Air.local resolves to a loopback address: 127.0.0.1; using 192.168.29.194 instead (on interface en0)\n",
      "23/10/11 00:24:07 WARN Utils: Set SPARK_LOCAL_IP if you need to bind to another address\n",
      "Setting default log level to \"WARN\".\n",
      "To adjust logging level use sc.setLogLevel(newLevel). For SparkR, use setLogLevel(newLevel).\n",
      "23/10/11 00:24:07 WARN NativeCodeLoader: Unable to load native-hadoop library for your platform... using builtin-java classes where applicable\n"
     ]
    }
   ],
   "source": [
    "from pyspark.sql import SparkSession\n",
    "from pyspark.sql.functions import *\n",
    "spark = SparkSession.builder.appName(\"analysis\").getOrCreate()"
   ]
  },
  {
   "cell_type": "code",
   "execution_count": 2,
   "metadata": {},
   "outputs": [],
   "source": [
    "hmda = spark.read.csv('../datafiles/hmda.csv', header=True)"
   ]
  },
  {
   "cell_type": "code",
   "execution_count": 4,
   "metadata": {},
   "outputs": [
    {
     "name": "stdout",
     "output_type": "stream",
     "text": [
      "+----------+-------------+--------------------+-----------+-----------+--------------+---------+--------------------+-------------+-----------------+------------+--------------------+---------------+----------------+--------------------+-----------+-----------------+------------+--------------------+-----+----------+----------+----------+------------------+-----------+-------------------+------------------------+-------------------+---------------------------+----------------------+---------------------+----------------+---------------------+----------------+---------------------+----------------+---------------------+----------------+---------------------+----------------+------------------------+-------------------+------------------------+-------------------+------------------------+-------------------+------------------------+-------------------+------------------------+-------------------+------------------+-------------+---------------------+----------------+---------------------+--------------------+--------------+--------------------+---------------+--------------------+---------------+--------------------+---------------+-----------+-----------------+------------+--------------------+-----------+--------------------+-----------+---------------+----------+-------------------+------------------------+---------------------+------------------------------+-----------------------------+--------------------------+\n",
      "|as_of_year|respondent_id|         agency_name|agency_abbr|agency_code|loan_type_name|loan_type|  property_type_name|property_type|loan_purpose_name|loan_purpose|owner_occupancy_name|owner_occupancy|loan_amount_000s|    preapproval_name|preapproval|action_taken_name|action_taken|          msamd_name|msamd|state_name|state_abbr|state_code|       county_name|county_code|census_tract_number|applicant_ethnicity_name|applicant_ethnicity|co_applicant_ethnicity_name|co_applicant_ethnicity|applicant_race_name_1|applicant_race_1|applicant_race_name_2|applicant_race_2|applicant_race_name_3|applicant_race_3|applicant_race_name_4|applicant_race_4|applicant_race_name_5|applicant_race_5|co_applicant_race_name_1|co_applicant_race_1|co_applicant_race_name_2|co_applicant_race_2|co_applicant_race_name_3|co_applicant_race_3|co_applicant_race_name_4|co_applicant_race_4|co_applicant_race_name_5|co_applicant_race_5|applicant_sex_name|applicant_sex|co_applicant_sex_name|co_applicant_sex|applicant_income_000s| purchaser_type_name|purchaser_type|denial_reason_name_1|denial_reason_1|denial_reason_name_2|denial_reason_2|denial_reason_name_3|denial_reason_3|rate_spread|hoepa_status_name|hoepa_status|    lien_status_name|lien_status|    edit_status_name|edit_status|sequence_number|population|minority_population|hud_median_family_income|tract_to_msamd_income|number_of_owner_occupied_units|number_of_1_to_4_family_units|application_date_indicator|\n",
      "+----------+-------------+--------------------+-----------+-----------+--------------+---------+--------------------+-------------+-----------------+------------+--------------------+---------------+----------------+--------------------+-----------+-----------------+------------+--------------------+-----+----------+----------+----------+------------------+-----------+-------------------+------------------------+-------------------+---------------------------+----------------------+---------------------+----------------+---------------------+----------------+---------------------+----------------+---------------------+----------------+---------------------+----------------+------------------------+-------------------+------------------------+-------------------+------------------------+-------------------+------------------------+-------------------+------------------------+-------------------+------------------+-------------+---------------------+----------------+---------------------+--------------------+--------------+--------------------+---------------+--------------------+---------------+--------------------+---------------+-----------+-----------------+------------+--------------------+-----------+--------------------+-----------+---------------+----------+-------------------+------------------------+---------------------+------------------------------+-----------------------------+--------------------------+\n",
      "|      2008|   7667200009|Department of Hou...|        HUD|          7|   FHA-insured|        2|One-to-four famil...|            1|    Home purchase|           1|Owner-occupied as...|              1|             265|Preapproval was n...|          2|  Loan originated|           1|    Bakersfield - CA|12540|California|        CA|         6|       Kern County|         29|            0032.01|      Hispanic or Latino|                  1|            No co-applicant|                     5|                White|               5|                 null|            null|                 null|            null|                 null|            null|                 null|            null|         No co-applicant|                  8|                    null|               null|                    null|               null|                    null|               null|                    null|               null|              Male|            1|      No co-applicant|               5|                   69|Other type of pur...|             9|                null|           null|                null|           null|                null|           null|       null| Not a HOEPA loan|           2|Secured by a firs...|          1|                null|       null|        0000414|      6061| 48.459999084472656|                   50000|   147.42999267578125|                          1484|                         1865|                         0|\n",
      "|      2008|   7505400005|Department of Hou...|        HUD|          7|   FHA-insured|        2|One-to-four famil...|            1|    Home purchase|           1|Owner-occupied as...|              1|             242|      Not applicable|          3|  Loan originated|           1|Los Angeles, Long...|31084|California|        CA|         6|Los Angeles County|         37|            1851.00|      Hispanic or Latino|                  1|            No co-applicant|                     5|                White|               5|                 null|            null|                 null|            null|                 null|            null|                 null|            null|         No co-applicant|                  8|                    null|               null|                    null|               null|                    null|               null|                    null|               null|            Female|            2|      No co-applicant|               5|                   67|Other type of pur...|             9|                null|           null|                null|           null|                null|           null|       null| Not a HOEPA loan|           2|Secured by a firs...|          1|                null|       null|        0002620|      6159|  70.44999694824219|                   59800|   106.52999877929688|                          1286|                         1924|                         0|\n",
      "|      2008|   7505400005|Department of Hou...|        HUD|          7|  Conventional|        1|One-to-four famil...|            1|    Home purchase|           1|Owner-occupied as...|              1|             378|      Not applicable|          3|  Loan originated|           1|Los Angeles, Long...|31084|California|        CA|         6|Los Angeles County|         37|            1836.20|    Not Hispanic or L...|                  2|       Not Hispanic or L...|                     2|                White|               5|                 null|            null|                 null|            null|                 null|            null|                 null|            null|                   White|                  5|                    null|               null|                    null|               null|                    null|               null|                    null|               null|              Male|            1|               Female|               2|                  115|Other type of pur...|             9|                null|           null|                null|           null|                null|           null|       null| Not a HOEPA loan|           2|Secured by a firs...|          1|                null|       null|        0002613|      3316|  89.54000091552734|                   59800|    73.80999755859375|                           399|                          779|                         0|\n",
      "|      2008|   0000001741|Office of the Com...|        OCC|          1|  Conventional|        1|One-to-four famil...|            1|    Home purchase|           1|Owner-occupied as...|              1|            1208|Preapproval was n...|          2|  Loan originated|           1|Santa Ana, Anahei...|42044|California|        CA|         6|     Orange County|         59|            0626.44|    Not Hispanic or L...|                  2|       Not Hispanic or L...|                     2|                White|               5|                 null|            null|                 null|            null|                 null|            null|                 null|            null|                   White|                  5|                    null|               null|                    null|               null|                    null|               null|                    null|               null|              Male|            1|               Female|               2|                  493|Loan was not orig...|             0|                null|           null|                null|           null|                null|           null|       null| Not a HOEPA loan|           2|Secured by a firs...|          1|                null|       null|        0996824|      6558| 12.520000457763672|                   84100|    214.4199981689453|                          1580|                         1899|                         0|\n",
      "|      2008|   0000006809|Office of Thrift ...|        OTS|          4|  Conventional|        1|One-to-four famil...|            1|    Home purchase|           1|Owner-occupied as...|              1|             200|      Not applicable|          3|  Loan originated|           1|Sacramento, Arden...|40900|California|        CA|         6|     Placer County|         61|            0210.08|    Not Hispanic or L...|                  2|       Not Hispanic or L...|                     2|                White|               5|                 null|            null|                 null|            null|                 null|            null|                 null|            null|                   White|                  5|                    null|               null|                    null|               null|                    null|               null|                    null|               null|              Male|            1|               Female|               2|                   75| Freddie Mac (FHLMC)|             3|                null|           null|                null|           null|                null|           null|       null| Not a HOEPA loan|           2|Secured by a firs...|          1|Quality edit fail...|          6|        0010750|      7229| 24.440000534057617|                   71000|    109.5199966430664|                          1641|                         2207|                         0|\n",
      "|      2008|   7505400005|Department of Hou...|        HUD|          7|  Conventional|        1|One-to-four famil...|            1|    Home purchase|           1|Owner-occupied as...|              1|             480|      Not applicable|          3|  Loan originated|           1|Los Angeles, Long...|31084|California|        CA|         6|Los Angeles County|         37|            1909.02|    Not Hispanic or L...|                  2|            No co-applicant|                     5|                White|               5|                 null|            null|                 null|            null|                 null|            null|                 null|            null|         No co-applicant|                  8|                    null|               null|                    null|               null|                    null|               null|                    null|               null|            Female|            2|      No co-applicant|               5|                   79|Other type of pur...|             9|                null|           null|                null|           null|                null|           null|       null| Not a HOEPA loan|           2|Secured by a firs...|          1|                null|       null|        0002654|      4621|  79.66000366210938|                   59800|    43.77000045776367|                           106|                          472|                         0|\n",
      "|      2008|   7505400005|Department of Hou...|        HUD|          7|   FHA-insured|        2|One-to-four famil...|            1|    Home purchase|           1|Owner-occupied as...|              1|             399|      Not applicable|          3|  Loan originated|           1|Los Angeles, Long...|31084|California|        CA|         6|Los Angeles County|         37|            1852.01|      Hispanic or Latino|                  1|         Hispanic or Latino|                     1|                White|               5|                 null|            null|                 null|            null|                 null|            null|                 null|            null|                   White|                  5|                    null|               null|                    null|               null|                    null|               null|                    null|               null|              Male|            1|               Female|               2|                  110|Other type of pur...|             9|                null|           null|                null|           null|                null|           null|       null| Not a HOEPA loan|           2|Secured by a firs...|          1|Quality edit fail...|          6|        0002625|      5308|  86.66000366210938|                   59800|    95.26000213623047|                           871|                         1523|                         0|\n",
      "|      2008|   0000000008|Office of the Com...|        OCC|          1|  Conventional|        1|One-to-four famil...|            1|    Home purchase|           1|Owner-occupied as...|              1|             622|      Not applicable|          3|  Loan originated|           1|Oakland, Fremont,...|36084|California|        CA|         6|    Alameda County|          1|            4274.00|    Not Hispanic or L...|                  2|       Not Hispanic or L...|                     2|                White|               5|                 null|            null|                 null|            null|                 null|            null|                 null|            null|                   Asian|                  2|                    null|               null|                    null|               null|                    null|               null|                    null|               null|            Female|            2|                 Male|               1|                  242|Affiliate institu...|             8|                null|           null|                null|           null|                null|           null|       null| Not a HOEPA loan|           2|Secured by a firs...|          1|                null|       null|        0853920|      1252|   38.7400016784668|                   86100|     59.9900016784668|                             9|                          443|                         0|\n",
      "|      2008|   0000001741|Office of the Com...|        OCC|          1|  Conventional|        1|One-to-four famil...|            1|    Home purchase|           1|Owner-occupied as...|              1|             236|Preapproval was n...|          2|  Loan originated|           1|Santa Cruz, Watso...|42100|California|        CA|         6| Santa Cruz County|         87|            1106.00|    Not Hispanic or L...|                  2|       Not Hispanic or L...|                     2| Black or African ...|               3|                 null|            null|                 null|            null|                 null|            null|                 null|            null|                   White|                  5|                    null|               null|                    null|               null|                    null|               null|                    null|               null|              Male|            1|               Female|               2|                   52|   Fannie Mae (FNMA)|             1|                null|           null|                null|           null|                null|           null|       null| Not a HOEPA loan|           2|Secured by a firs...|          1|                null|       null|        1004208|      7544|  84.05000305175781|                   79900|    71.06999969482422|                          1023|                         1562|                         0|\n",
      "|      2008|   7505400005|Department of Hou...|        HUD|          7|  Conventional|        1|One-to-four famil...|            1|    Home purchase|           1|Owner-occupied as...|              1|             324|      Not applicable|          3|  Loan originated|           1|Los Angeles, Long...|31084|California|        CA|         6|Los Angeles County|         37|            1853.20|    Not Hispanic or L...|                  2|       Not Hispanic or L...|                     2|                Asian|               2|                 null|            null|                 null|            null|                 null|            null|                 null|            null|                   Asian|                  2|                    null|               null|                    null|               null|                    null|               null|                    null|               null|              Male|            1|               Female|               2|                  102|Other type of pur...|             9|                null|           null|                null|           null|                null|           null|       null| Not a HOEPA loan|           2|Secured by a firs...|          1|                null|       null|        0002631|      3186|   96.4800033569336|                   59800|     66.3499984741211|                           324|                          737|                         0|\n",
      "+----------+-------------+--------------------+-----------+-----------+--------------+---------+--------------------+-------------+-----------------+------------+--------------------+---------------+----------------+--------------------+-----------+-----------------+------------+--------------------+-----+----------+----------+----------+------------------+-----------+-------------------+------------------------+-------------------+---------------------------+----------------------+---------------------+----------------+---------------------+----------------+---------------------+----------------+---------------------+----------------+---------------------+----------------+------------------------+-------------------+------------------------+-------------------+------------------------+-------------------+------------------------+-------------------+------------------------+-------------------+------------------+-------------+---------------------+----------------+---------------------+--------------------+--------------+--------------------+---------------+--------------------+---------------+--------------------+---------------+-----------+-----------------+------------+--------------------+-----------+--------------------+-----------+---------------+----------+-------------------+------------------------+---------------------+------------------------------+-----------------------------+--------------------------+\n",
      "only showing top 10 rows\n",
      "\n"
     ]
    }
   ],
   "source": [
    "hmda.filter(hmda['loan_purpose_name']=='Home purchase').show(10)"
   ]
  },
  {
   "cell_type": "code",
   "execution_count": 7,
   "metadata": {},
   "outputs": [
    {
     "name": "stdout",
     "output_type": "stream",
     "text": [
      "+-----------+-----+\n",
      "|agency_abbr|count|\n",
      "+-----------+-----+\n",
      "|       NCUA|  267|\n",
      "|       FDIC|   69|\n",
      "|        OCC| 2081|\n",
      "|        HUD| 7180|\n",
      "|        FRS|   50|\n",
      "|        OTS|  351|\n",
      "+-----------+-----+\n",
      "\n"
     ]
    }
   ],
   "source": [
    "hmda.groupBy('agency_abbr').count().show()"
   ]
  },
  {
   "cell_type": "code",
   "execution_count": 10,
   "metadata": {},
   "outputs": [
    {
     "name": "stdout",
     "output_type": "stream",
     "text": [
      "+--------------------+-----+\n",
      "|         county_name|count|\n",
      "+--------------------+-----+\n",
      "|  Los Angeles County| 4451|\n",
      "|  Santa Clara County| 3296|\n",
      "|San Luis Obispo C...|  556|\n",
      "|       Orange County|  533|\n",
      "|      Alameda County|  258|\n",
      "|   Stanislaus County|  121|\n",
      "| Contra Costa County|  118|\n",
      "|   San Benito County|   78|\n",
      "|    Riverside County|   63|\n",
      "|      Ventura County|   56|\n",
      "|    San Diego County|   52|\n",
      "|       Merced County|   43|\n",
      "|San Bernardino Co...|   40|\n",
      "|       Sonoma County|   37|\n",
      "|Santa Barbara County|   34|\n",
      "|  San Joaquin County|   33|\n",
      "|   Santa Cruz County|   30|\n",
      "|         Kern County|   27|\n",
      "|         Napa County|   27|\n",
      "|       Solano County|   26|\n",
      "+--------------------+-----+\n",
      "only showing top 20 rows\n",
      "\n"
     ]
    }
   ],
   "source": [
    "hmda.groupBy('county_name').count().sort('count', ascending=False).show()"
   ]
  }
 ],
 "metadata": {
  "kernelspec": {
   "display_name": "dlvenv",
   "language": "python",
   "name": "python3"
  },
  "language_info": {
   "codemirror_mode": {
    "name": "ipython",
    "version": 3
   },
   "file_extension": ".py",
   "mimetype": "text/x-python",
   "name": "python",
   "nbconvert_exporter": "python",
   "pygments_lexer": "ipython3",
   "version": "3.10.12"
  }
 },
 "nbformat": 4,
 "nbformat_minor": 2
}
